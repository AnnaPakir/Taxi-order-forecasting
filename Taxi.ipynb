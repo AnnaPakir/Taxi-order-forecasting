{
  "cells": [
    {
      "cell_type": "markdown",
      "metadata": {
        "toc": true,
        "id": "fkPpxnUL70kg"
      },
      "source": [
        "<h1>Содержание<span class=\"tocSkip\"></span></h1>\n",
        "<div class=\"toc\"><ul class=\"toc-item\"><li><span><a href=\"#Подготовка\" data-toc-modified-id=\"Подготовка-1\"><span class=\"toc-item-num\">1&nbsp;&nbsp;</span>Подготовка</a></span></li><li><span><a href=\"#Анализ\" data-toc-modified-id=\"Анализ-2\"><span class=\"toc-item-num\">2&nbsp;&nbsp;</span>Анализ</a></span></li><li><span><a href=\"#Обучение\" data-toc-modified-id=\"Обучение-3\"><span class=\"toc-item-num\">3&nbsp;&nbsp;</span>Обучение</a></span></li><li><span><a href=\"#Тестирование\" data-toc-modified-id=\"Тестирование-4\"><span class=\"toc-item-num\">4&nbsp;&nbsp;</span>Тестирование</a></span></li><li><span><a href=\"#Вывод\" data-toc-modified-id=\"Вывод-5\"><span class=\"toc-item-num\">5&nbsp;&nbsp;</span>Вывод</a></span></li></ul></div>"
      ]
    },
    {
      "cell_type": "markdown",
      "metadata": {
        "id": "B1pOed4T70kh"
      },
      "source": [
        "#  Прогнозирование заказов такси"
      ]
    },
    {
      "cell_type": "markdown",
      "metadata": {
        "id": "r-YtJ6J870kh"
      },
      "source": [
        "Компания «Чётенькое такси» собрала исторические данные о заказах такси в аэропортах. Чтобы привлекать больше водителей в период пиковой нагрузки, нужно спрогнозировать количество заказов такси на следующий час. Постройте модель для такого предсказания.\n",
        "\n",
        "Значение метрики *RMSE* на тестовой выборке должно быть не больше 48.\n",
        "\n",
        "Вам нужно:\n",
        "\n",
        "1. Загрузить данные и выполнить их ресемплирование по одному часу.\n",
        "2. Проанализировать данные.\n",
        "3. Обучить разные модели с различными гиперпараметрами. Сделать тестовую выборку размером 10% от исходных данных.\n",
        "4. Проверить данные на тестовой выборке и сделать выводы.\n",
        "\n",
        "\n",
        "Данные лежат в файле `taxi.csv`. Количество заказов находится в столбце `num_orders` (от англ. *number of orders*, «число заказов»)."
      ]
    },
    {
      "cell_type": "markdown",
      "metadata": {
        "id": "9rObp5jm70kh"
      },
      "source": [
        "**Описание проекта:** Услуга заказа такси -одна из самых удобных решений современного мира. Однако, она имеет свою специфику. Слишком долгое ожидание такси, когда она срочно нужно, либо слишком большая цена на такси отпугавает потенциальных клиентов, что приводит к убыткам как самой транспортной компании, так и его сотрудников. В тоже время простой машин тоже ведет к убыткам компании. Именно поэтому расчет необходимого количества машин очень важен на практике. С помошью данных о количетсве заказах такси мы строим модели машинного обучения, позволяющие оценить и пресказать необходимый уровень количетсва машин в конкретное время.  <br>\n",
        "\n",
        "**Цель исследования:** создать модели машинного обучения,позволяющей определить количетсво необходимых для подачи клиентам машин такси.<br>\n",
        "\n",
        "**Ход исследования:**\n",
        "Для выполнения цели исследования необходимо будет выполнить следующие задачи:\n",
        "- <u>Первоначальный анализ и предобраотка данных.</u> Загрузка данных, первоначальное их изучение и анализ, их предобработка\n",
        "- <u>Подготовка данных.</u> кодировка, нормализация и иная подготовка данных для создание модели\n",
        "- <u>Обучние моделей.</u> Создание модели машинного оучения, подбор гипперпараметров, анализ моделей  \n",
        "- <u>Вывод </u> Описание результатов исследования, выводы.\n",
        "\n",
        "Данное исследование может стать основой для исследования и планирование работы транспортной компании."
      ]
    },
    {
      "cell_type": "code",
      "execution_count": null,
      "metadata": {
        "id": "_AmaCPy970kh"
      },
      "outputs": [],
      "source": [
        "import pandas as pd\n",
        "import matplotlib.pyplot as plt\n",
        "import seaborn as sns\n",
        "import numpy as np\n",
        "import os\n",
        "\n",
        "import lightgbm as lgb\n",
        "from statsmodels.tsa.seasonal import seasonal_decompose\n",
        "from lightgbm import LGBMRegressor\n",
        "from sklearn.model_selection import train_test_split\n",
        "from sklearn.preprocessing import  MinMaxScaler, StandardScaler\n",
        "from sklearn.pipeline import Pipeline\n",
        "from sklearn.compose import ColumnTransformer\n",
        "from sklearn.tree import DecisionTreeRegressor\n",
        "from sklearn.metrics import mean_squared_error\n",
        "from sklearn.model_selection import GridSearchCV,TimeSeriesSplit\n",
        "from sklearn.linear_model import LinearRegression\n",
        "from sklearn.svm import SVR\n",
        "from sklearn.ensemble import RandomForestRegressor\n",
        "from statsmodels.tsa.stattools import adfuller\n",
        "from sklearn.dummy import DummyRegressor\n",
        "plt.rcParams[\"figure.figsize\"] = (10,6)"
      ]
    },
    {
      "cell_type": "markdown",
      "metadata": {
        "id": "q8M8YB3G70ki"
      },
      "source": [
        "## Подготовка"
      ]
    },
    {
      "cell_type": "markdown",
      "metadata": {
        "id": "m1W1CPBn70ki"
      },
      "source": [
        "Загрузка и первоначальный анализ данных"
      ]
    },
    {
      "cell_type": "code",
      "execution_count": null,
      "metadata": {
        "id": "YstsNdxv70ki"
      },
      "outputs": [],
      "source": [
        "if os.path.exists('/datasets/taxi.csv'):\n",
        "    df = pd.read_csv('/datasets/taxi.csv',sep=',',index_col=[0], parse_dates=[0])\n",
        "else:\n",
        "    print('Erorr')"
      ]
    },
    {
      "cell_type": "code",
      "execution_count": null,
      "metadata": {
        "scrolled": true,
        "id": "FsXqYAET70ki",
        "outputId": "bcb1eb98-2df3-4ccd-8e77-e51d0553cc8e"
      },
      "outputs": [
        {
          "data": {
            "text/html": [
              "<div>\n",
              "<style scoped>\n",
              "    .dataframe tbody tr th:only-of-type {\n",
              "        vertical-align: middle;\n",
              "    }\n",
              "\n",
              "    .dataframe tbody tr th {\n",
              "        vertical-align: top;\n",
              "    }\n",
              "\n",
              "    .dataframe thead th {\n",
              "        text-align: right;\n",
              "    }\n",
              "</style>\n",
              "<table border=\"1\" class=\"dataframe\">\n",
              "  <thead>\n",
              "    <tr style=\"text-align: right;\">\n",
              "      <th></th>\n",
              "      <th>num_orders</th>\n",
              "    </tr>\n",
              "    <tr>\n",
              "      <th>datetime</th>\n",
              "      <th></th>\n",
              "    </tr>\n",
              "  </thead>\n",
              "  <tbody>\n",
              "    <tr>\n",
              "      <th>2018-03-01 00:00:00</th>\n",
              "      <td>9</td>\n",
              "    </tr>\n",
              "    <tr>\n",
              "      <th>2018-03-01 00:10:00</th>\n",
              "      <td>14</td>\n",
              "    </tr>\n",
              "    <tr>\n",
              "      <th>2018-03-01 00:20:00</th>\n",
              "      <td>28</td>\n",
              "    </tr>\n",
              "    <tr>\n",
              "      <th>2018-03-01 00:30:00</th>\n",
              "      <td>20</td>\n",
              "    </tr>\n",
              "    <tr>\n",
              "      <th>2018-03-01 00:40:00</th>\n",
              "      <td>32</td>\n",
              "    </tr>\n",
              "  </tbody>\n",
              "</table>\n",
              "</div>"
            ],
            "text/plain": [
              "                     num_orders\n",
              "datetime                       \n",
              "2018-03-01 00:00:00           9\n",
              "2018-03-01 00:10:00          14\n",
              "2018-03-01 00:20:00          28\n",
              "2018-03-01 00:30:00          20\n",
              "2018-03-01 00:40:00          32"
            ]
          },
          "execution_count": 3,
          "metadata": {},
          "output_type": "execute_result"
        }
      ],
      "source": [
        "df.head()"
      ]
    },
    {
      "cell_type": "code",
      "execution_count": null,
      "metadata": {
        "id": "7EzHKYmY70kj",
        "outputId": "7007521b-a6c6-4b0b-ec3e-631e9f159a6a"
      },
      "outputs": [
        {
          "data": {
            "text/plain": [
              "True"
            ]
          },
          "execution_count": 4,
          "metadata": {},
          "output_type": "execute_result"
        }
      ],
      "source": [
        "df=df.sort_index()\n",
        "df.index.is_monotonic # проверка отсутствия пропусков"
      ]
    },
    {
      "cell_type": "code",
      "execution_count": null,
      "metadata": {
        "scrolled": false,
        "id": "8vavHOAd70kj",
        "outputId": "1952a4f1-c158-4bbe-fe9c-e113405276e7"
      },
      "outputs": [
        {
          "name": "stdout",
          "output_type": "stream",
          "text": [
            "<class 'pandas.core.frame.DataFrame'>\n",
            "DatetimeIndex: 26496 entries, 2018-03-01 00:00:00 to 2018-08-31 23:50:00\n",
            "Data columns (total 1 columns):\n",
            " #   Column      Non-Null Count  Dtype\n",
            "---  ------      --------------  -----\n",
            " 0   num_orders  26496 non-null  int64\n",
            "dtypes: int64(1)\n",
            "memory usage: 414.0 KB\n"
          ]
        }
      ],
      "source": [
        "df.info()"
      ]
    },
    {
      "cell_type": "code",
      "execution_count": null,
      "metadata": {
        "id": "Uzq1Gf2u70kj"
      },
      "outputs": [],
      "source": [
        "df = df.resample('1H').sum()"
      ]
    },
    {
      "cell_type": "markdown",
      "metadata": {
        "id": "TNt_KWWZ70kj"
      },
      "source": [
        "<u>Вывод по первой части</u>\n",
        "На данном этапе выполнения проекта был сделана закрузка и превоначальный анализ данных. В датафрейме содержатся данные о вызове такси за период с 1 марта 2018 года по 31 авгуса 2018 года, без пропусков. Данные были ресемплированы по одному часу."
      ]
    },
    {
      "cell_type": "markdown",
      "metadata": {
        "id": "wS82XH-270kj"
      },
      "source": [
        "## Анализ"
      ]
    },
    {
      "cell_type": "code",
      "execution_count": null,
      "metadata": {
        "scrolled": false,
        "id": "94j6zulg70kj",
        "outputId": "547445c4-6ed5-49f6-f466-43750de89711"
      },
      "outputs": [
        {
          "data": {
            "image/png": "[encoded data removed]",
            "text/plain": [
              "<Figure size 720x432 with 1 Axes>"
            ]
          },
          "metadata": {
            "needs_background": "light"
          },
          "output_type": "display_data"
        }
      ],
      "source": [
        "df['rolling_mean'] = df['num_orders'].shift(24).rolling(24).mean()\n",
        "\n",
        "\n",
        "plt.plot(df)\n",
        "plt.title('Временной ряд')\n",
        "plt.ylabel('Количество поездок')\n",
        "plt.xlabel('Даты')\n",
        "plt.show()"
      ]
    },
    {
      "cell_type": "code",
      "execution_count": null,
      "metadata": {
        "id": "wKq6H25L70kj",
        "outputId": "b3ca2d5a-4ca5-46a7-a063-f3424c152b2d"
      },
      "outputs": [
        {
          "data": {
            "image/png": "[encoded data removed]",
            "text/plain": [
              "<Figure size 720x432 with 1 Axes>"
            ]
          },
          "metadata": {
            "needs_background": "light"
          },
          "output_type": "display_data"
        }
      ],
      "source": [
        "plt.plot(df['2018-03':'2018-04'])\n",
        "plt.title('Временной ряд')\n",
        "plt.ylabel('Количество поездок')\n",
        "plt.xlabel('Даты')\n",
        "plt.show()"
      ]
    },
    {
      "cell_type": "markdown",
      "metadata": {
        "id": "_pbzjBDg70kj"
      },
      "source": [
        "Ряд нестационарен. Идет увеличение сглаживаемого среднего, он неравномерен."
      ]
    },
    {
      "cell_type": "code",
      "execution_count": null,
      "metadata": {
        "scrolled": false,
        "id": "MF5ccJoR70kk",
        "outputId": "2fc517b3-a2ef-47d3-f162-40e4115d12e6"
      },
      "outputs": [
        {
          "data": {
            "image/png": "[encoded data removed]",
            "text/plain": [
              "<Figure size 720x432 with 1 Axes>"
            ]
          },
          "metadata": {
            "needs_background": "light"
          },
          "output_type": "display_data"
        }
      ],
      "source": [
        "decomposed =  seasonal_decompose(df['num_orders'])\n",
        "\n",
        "\n",
        "decomposed.trend.plot(ax=plt.gca())\n",
        "plt.title('Trend')\n",
        "plt.ylabel('Количество поездок')\n",
        "plt.xlabel('Даты')\n",
        "plt.show()"
      ]
    },
    {
      "cell_type": "markdown",
      "metadata": {
        "id": "STes4-g-70kk"
      },
      "source": [
        "Визуально заметен тренд к увеличению количества заказов такси."
      ]
    },
    {
      "cell_type": "code",
      "execution_count": null,
      "metadata": {
        "id": "dDeHyVYJ70kk",
        "outputId": "645ebd59-172c-4b3c-9fdc-437bafb2c0db"
      },
      "outputs": [
        {
          "data": {
            "image/png": "[encoded data removed]",
            "text/plain": [
              "<Figure size 720x432 with 1 Axes>"
            ]
          },
          "metadata": {
            "needs_background": "light"
          },
          "output_type": "display_data"
        }
      ],
      "source": [
        "decomposed.seasonal['2018-06-15':'2018-08-15'].plot()\n",
        "\n",
        "plt.title('Сезонность по месяцам')\n",
        "plt.ylabel('Количество поездок')\n",
        "plt.xlabel('Время')\n",
        "plt.show()"
      ]
    },
    {
      "cell_type": "code",
      "execution_count": null,
      "metadata": {
        "id": "p8xc_AlP70kk",
        "outputId": "37f41b6c-b3f3-4e52-f71a-a081bdeeef11"
      },
      "outputs": [
        {
          "data": {
            "image/png": "[encoded data removed]",
            "text/plain": [
              "<Figure size 720x432 with 1 Axes>"
            ]
          },
          "metadata": {
            "needs_background": "light"
          },
          "output_type": "display_data"
        }
      ],
      "source": [
        "decomposed.seasonal['2018-08-01':'2018-08-15'].plot()\n",
        "plt.title('Сезонность по неделям')\n",
        "plt.ylabel('Количество поездок')\n",
        "plt.xlabel('Время')\n",
        "plt.show()"
      ]
    },
    {
      "cell_type": "code",
      "execution_count": null,
      "metadata": {
        "scrolled": false,
        "id": "epiApLdg70kk",
        "outputId": "9b82407b-4210-495d-9d92-632cb367deb5"
      },
      "outputs": [
        {
          "data": {
            "image/png": "[encoded data removed]",
            "text/plain": [
              "<Figure size 720x432 with 1 Axes>"
            ]
          },
          "metadata": {
            "needs_background": "light"
          },
          "output_type": "display_data"
        }
      ],
      "source": [
        "decomposed.seasonal['2018-08-01':'2018-08-02'].plot()\n",
        "plt.title('Сезонность дневная')\n",
        "plt.ylabel('Количество поездок')\n",
        "plt.xlabel('Время')\n",
        "plt.show()"
      ]
    },
    {
      "cell_type": "markdown",
      "metadata": {
        "id": "HOKCv_bx70kk"
      },
      "source": [
        "Не была выявлена месячная и недельная сезонность. Обнаружена суточная сезонность, количество заказов такси зависит от времени суток.   Пик заказа такси проходится на 12 ночи. Это скорее всего связано с тем, что примерно с этого времени перестает ходить общественный транспорт и пассажиры и поздние работники аэропорта едут домой. Пик активности заказов приходится примерно на 16:00, это скорее всего окончание работы части работников, либо какие-то очень популярные  и многолюдные рейсы. Пик в 7-8 часов, это начало работы аэропорта, те, кто хочет успеть из самолета в город бысрее, чтобы успеть сделать дела в тот же день. Наблюдается спад заказов такси около 6 утра. Пассажиры и работники аэропорта уже дожидаются общественного транспорта или спят. Природа скзанности обусловоена спецификой раьоты аэропорта. Это круглосуточный объект, с большим количеством приезжающих и уезжающих людей круглосуточно.\n",
        "- Временной ряд нестационарен."
      ]
    },
    {
      "cell_type": "markdown",
      "metadata": {
        "id": "7pMajVxh70ks"
      },
      "source": [
        "Нулевая гипотеза: тест нестационарен. Альтернативная гипотеза: ряд стационарен.\n"
      ]
    },
    {
      "cell_type": "code",
      "execution_count": null,
      "metadata": {
        "id": "UZegQPT770ks",
        "outputId": "1e4d6a40-ba4f-41d0-bdb2-d6cc38460fa2"
      },
      "outputs": [
        {
          "name": "stdout",
          "output_type": "stream",
          "text": [
            "0.028940051402612906\n",
            "Нулевая гипотеза не отвергается. Ряд скорее всего нестационарен\n"
          ]
        }
      ],
      "source": [
        "alfa =0.01\n",
        "a =adfuller(df['num_orders'])[1] #тест Дики-Фуллера\n",
        "print(a)\n",
        "\n",
        "if a<alfa:\n",
        "\n",
        "    print('Нулевая гипотеза отвергается. Ряд скорее всего стационарен')\n",
        "else:\n",
        "    print('Нулевая гипотеза не отвергается. Ряд скорее всего нестационарен')"
      ]
    },
    {
      "cell_type": "code",
      "execution_count": null,
      "metadata": {
        "id": "eIMbphcJ70ks"
      },
      "outputs": [],
      "source": [
        "df['day'] = df.index.day\n",
        "df['dayofweek'] = df.index.dayofweek\n",
        "df['hour'] = df.index.hour\n",
        "\n",
        "for lag in range(1, 7):\n",
        "    df['lag_{}'.format(lag)] = df['num_orders'].shift(lag)"
      ]
    },
    {
      "cell_type": "code",
      "execution_count": null,
      "metadata": {
        "id": "4ACiXCb370kt"
      },
      "outputs": [],
      "source": [
        "df=df.dropna()"
      ]
    },
    {
      "cell_type": "code",
      "execution_count": null,
      "metadata": {
        "id": "QIR9219a70kt",
        "outputId": "636cf8e2-953a-49f6-c558-2da23ccad581"
      },
      "outputs": [
        {
          "data": {
            "text/html": [
              "<div>\n",
              "<style scoped>\n",
              "    .dataframe tbody tr th:only-of-type {\n",
              "        vertical-align: middle;\n",
              "    }\n",
              "\n",
              "    .dataframe tbody tr th {\n",
              "        vertical-align: top;\n",
              "    }\n",
              "\n",
              "    .dataframe thead th {\n",
              "        text-align: right;\n",
              "    }\n",
              "</style>\n",
              "<table border=\"1\" class=\"dataframe\">\n",
              "  <thead>\n",
              "    <tr style=\"text-align: right;\">\n",
              "      <th></th>\n",
              "      <th>num_orders</th>\n",
              "      <th>rolling_mean</th>\n",
              "      <th>day</th>\n",
              "      <th>dayofweek</th>\n",
              "      <th>hour</th>\n",
              "      <th>lag_1</th>\n",
              "      <th>lag_2</th>\n",
              "      <th>lag_3</th>\n",
              "      <th>lag_4</th>\n",
              "      <th>lag_5</th>\n",
              "      <th>lag_6</th>\n",
              "    </tr>\n",
              "    <tr>\n",
              "      <th>datetime</th>\n",
              "      <th></th>\n",
              "      <th></th>\n",
              "      <th></th>\n",
              "      <th></th>\n",
              "      <th></th>\n",
              "      <th></th>\n",
              "      <th></th>\n",
              "      <th></th>\n",
              "      <th></th>\n",
              "      <th></th>\n",
              "      <th></th>\n",
              "    </tr>\n",
              "  </thead>\n",
              "  <tbody>\n",
              "    <tr>\n",
              "      <th>2018-03-02 23:00:00</th>\n",
              "      <td>72</td>\n",
              "      <td>56.833333</td>\n",
              "      <td>2</td>\n",
              "      <td>4</td>\n",
              "      <td>23</td>\n",
              "      <td>119.0</td>\n",
              "      <td>101.0</td>\n",
              "      <td>93.0</td>\n",
              "      <td>49.0</td>\n",
              "      <td>89.0</td>\n",
              "      <td>83.0</td>\n",
              "    </tr>\n",
              "    <tr>\n",
              "      <th>2018-03-03 00:00:00</th>\n",
              "      <td>163</td>\n",
              "      <td>55.416667</td>\n",
              "      <td>3</td>\n",
              "      <td>5</td>\n",
              "      <td>0</td>\n",
              "      <td>72.0</td>\n",
              "      <td>119.0</td>\n",
              "      <td>101.0</td>\n",
              "      <td>93.0</td>\n",
              "      <td>49.0</td>\n",
              "      <td>89.0</td>\n",
              "    </tr>\n",
              "    <tr>\n",
              "      <th>2018-03-03 01:00:00</th>\n",
              "      <td>108</td>\n",
              "      <td>56.875000</td>\n",
              "      <td>3</td>\n",
              "      <td>5</td>\n",
              "      <td>1</td>\n",
              "      <td>163.0</td>\n",
              "      <td>72.0</td>\n",
              "      <td>119.0</td>\n",
              "      <td>101.0</td>\n",
              "      <td>93.0</td>\n",
              "      <td>49.0</td>\n",
              "    </tr>\n",
              "    <tr>\n",
              "      <th>2018-03-03 02:00:00</th>\n",
              "      <td>25</td>\n",
              "      <td>57.041667</td>\n",
              "      <td>3</td>\n",
              "      <td>5</td>\n",
              "      <td>2</td>\n",
              "      <td>108.0</td>\n",
              "      <td>163.0</td>\n",
              "      <td>72.0</td>\n",
              "      <td>119.0</td>\n",
              "      <td>101.0</td>\n",
              "      <td>93.0</td>\n",
              "    </tr>\n",
              "    <tr>\n",
              "      <th>2018-03-03 03:00:00</th>\n",
              "      <td>64</td>\n",
              "      <td>56.958333</td>\n",
              "      <td>3</td>\n",
              "      <td>5</td>\n",
              "      <td>3</td>\n",
              "      <td>25.0</td>\n",
              "      <td>108.0</td>\n",
              "      <td>163.0</td>\n",
              "      <td>72.0</td>\n",
              "      <td>119.0</td>\n",
              "      <td>101.0</td>\n",
              "    </tr>\n",
              "  </tbody>\n",
              "</table>\n",
              "</div>"
            ],
            "text/plain": [
              "                     num_orders  rolling_mean  day  dayofweek  hour  lag_1  \\\n",
              "datetime                                                                     \n",
              "2018-03-02 23:00:00          72     56.833333    2          4    23  119.0   \n",
              "2018-03-03 00:00:00         163     55.416667    3          5     0   72.0   \n",
              "2018-03-03 01:00:00         108     56.875000    3          5     1  163.0   \n",
              "2018-03-03 02:00:00          25     57.041667    3          5     2  108.0   \n",
              "2018-03-03 03:00:00          64     56.958333    3          5     3   25.0   \n",
              "\n",
              "                     lag_2  lag_3  lag_4  lag_5  lag_6  \n",
              "datetime                                                \n",
              "2018-03-02 23:00:00  101.0   93.0   49.0   89.0   83.0  \n",
              "2018-03-03 00:00:00  119.0  101.0   93.0   49.0   89.0  \n",
              "2018-03-03 01:00:00   72.0  119.0  101.0   93.0   49.0  \n",
              "2018-03-03 02:00:00  163.0   72.0  119.0  101.0   93.0  \n",
              "2018-03-03 03:00:00  108.0  163.0   72.0  119.0  101.0  "
            ]
          },
          "execution_count": 16,
          "metadata": {},
          "output_type": "execute_result"
        }
      ],
      "source": [
        "df.head()"
      ]
    },
    {
      "cell_type": "code",
      "execution_count": null,
      "metadata": {
        "scrolled": true,
        "id": "E6e5obOJ70kt",
        "outputId": "5b51b8a7-becf-497f-ca98-7701be76ec6c"
      },
      "outputs": [
        {
          "data": {
            "image/png": "[encoded data removed]",
            "text/plain": [
              "<Figure size 432x432 with 2 Axes>"
            ]
          },
          "metadata": {
            "needs_background": "light"
          },
          "output_type": "display_data"
        }
      ],
      "source": [
        "plt.figure(figsize=(6,6))\n",
        "sns.heatmap(df.corr(), annot=True, cmap='cividis')\n",
        "plt.show()"
      ]
    },
    {
      "cell_type": "markdown",
      "metadata": {
        "id": "z5Z7A8Y-70kt"
      },
      "source": [
        "<u>Вывод по второму шагу</u>\n",
        "На данном этапе было посмотрено распределение признака. Выявлен тренд к увеличению числа такси. Сезонности, зависомости от дня недели или времени года не выявлено.\n",
        "Выявлена корреляция с данными за предыдущий час и месяцем заказа."
      ]
    },
    {
      "cell_type": "markdown",
      "metadata": {
        "id": "ez4B09IP70kt"
      },
      "source": [
        "## Обучение"
      ]
    },
    {
      "cell_type": "code",
      "execution_count": null,
      "metadata": {
        "id": "j8VoqfcC70kt"
      },
      "outputs": [],
      "source": [
        "RANDOM_STATE = 42\n",
        "TEST_SIZE = 0.1"
      ]
    },
    {
      "cell_type": "code",
      "execution_count": null,
      "metadata": {
        "id": "MkdF7_ZW70kt"
      },
      "outputs": [],
      "source": [
        "X_train, X_test, y_train, y_test = train_test_split(\n",
        "        df.drop(['num_orders'], axis=1),\n",
        "        df['num_orders'],\n",
        "        shuffle= False,\n",
        "        test_size = TEST_SIZE,\n",
        "        random_state = RANDOM_STATE)"
      ]
    },
    {
      "cell_type": "code",
      "execution_count": null,
      "metadata": {
        "id": "wIYiHmKx70kt",
        "outputId": "faf6a1b3-93a7-489a-8ba6-47d0ac630710"
      },
      "outputs": [
        {
          "data": {
            "text/plain": [
              "Index(['rolling_mean', 'day', 'dayofweek', 'hour', 'lag_1', 'lag_2', 'lag_3',\n",
              "       'lag_4', 'lag_5', 'lag_6'],\n",
              "      dtype='object')"
            ]
          },
          "execution_count": 20,
          "metadata": {},
          "output_type": "execute_result"
        }
      ],
      "source": [
        "X_train.columns"
      ]
    },
    {
      "cell_type": "code",
      "execution_count": null,
      "metadata": {
        "id": "coyozdYR70kt"
      },
      "outputs": [],
      "source": [
        "num_columns = [ 'hour', 'day', 'dayofweek', 'lag_1', 'lag_2', 'lag_3','lag_4',\n",
        "       'lag_5', 'lag_6',\n",
        "       'rolling_mean']"
      ]
    },
    {
      "cell_type": "code",
      "execution_count": null,
      "metadata": {
        "id": "bCCWlw3T70kt"
      },
      "outputs": [],
      "source": [
        "data_preprocessor = ColumnTransformer(\n",
        "    [('num', MinMaxScaler(), num_columns)],\n",
        "    remainder='passthrough'\n",
        ")"
      ]
    },
    {
      "cell_type": "code",
      "execution_count": null,
      "metadata": {
        "id": "q0OVnvud70ku"
      },
      "outputs": [],
      "source": [
        "pipe_tree = Pipeline([\n",
        "    ('preprocessor', data_preprocessor),\n",
        "    ('models',  LinearRegression())\n",
        "])"
      ]
    },
    {
      "cell_type": "code",
      "execution_count": null,
      "metadata": {
        "id": "EfAGYWQB70ku"
      },
      "outputs": [],
      "source": [
        "param_grid = [\n",
        "\n",
        "    {\n",
        "        'models': [RandomForestRegressor(random_state=RANDOM_STATE)],\n",
        "        'models__max_depth': range(9, 10),\n",
        "        'models__max_leaf_nodes': range(10, 12),\n",
        "        #'preprocessor__num': [StandardScaler(), MinMaxScaler(), 'passthrough']\n",
        "    },\n",
        "\n",
        "\n",
        "    {\n",
        "        'models':  [LinearRegression()],\n",
        "        'models__normalize':[True, False],\n",
        "        #'models__alpha':[0.9,1,2,3,5],\n",
        "        #'preprocessor__num': [StandardScaler(), MinMaxScaler(), 'passthrough']\n",
        "\n",
        "    },\n",
        "\n",
        "        {\n",
        "        'models': [LGBMRegressor(random_state=RANDOM_STATE)],\n",
        "        'models__num_leaves': range(8, 10),\n",
        "        'models__max_depth': range(7, 9)\n",
        "    }\n",
        "]"
      ]
    },
    {
      "cell_type": "code",
      "execution_count": null,
      "metadata": {
        "id": "2lkbG3Kl70ku"
      },
      "outputs": [],
      "source": [
        "n = TimeSeriesSplit(n_splits=3)"
      ]
    },
    {
      "cell_type": "code",
      "execution_count": null,
      "metadata": {
        "id": "s-ZzlxvC70ku"
      },
      "outputs": [],
      "source": [
        "search = GridSearchCV(\n",
        "    pipe_tree,\n",
        "    param_grid,\n",
        "    cv=n,\n",
        "    scoring= 'neg_root_mean_squared_error',\n",
        "    error_score='raise'\n",
        ")"
      ]
    },
    {
      "cell_type": "code",
      "execution_count": null,
      "metadata": {
        "scrolled": true,
        "id": "IXfjAH1370ku",
        "outputId": "60d48545-b898-48dd-bd52-d854549a1197"
      },
      "outputs": [
        {
          "name": "stdout",
          "output_type": "stream",
          "text": [
            "Лучшая модель и её параметры:\n",
            "\n",
            " {'models': LGBMRegressor(max_depth=8, num_leaves=9, random_state=42), 'models__max_depth': 8, 'models__num_leaves': 9}\n",
            "Метрика лучшей модели на кросс-валидации : 28.10594756517899\n"
          ]
        }
      ],
      "source": [
        "search.fit(X_train, y_train)\n",
        "\n",
        "print('Лучшая модель и её параметры:\\n\\n', search.best_params_)\n",
        "print ('Метрика лучшей модели на кросс-валидации :', abs(search.best_score_))"
      ]
    },
    {
      "cell_type": "code",
      "execution_count": null,
      "metadata": {
        "scrolled": true,
        "id": "SEAc64gZ70ku",
        "outputId": "a2e269c9-2b5c-4914-e3d7-25945c57cae5"
      },
      "outputs": [
        {
          "data": {
            "text/html": [
              "<div>\n",
              "<style scoped>\n",
              "    .dataframe tbody tr th:only-of-type {\n",
              "        vertical-align: middle;\n",
              "    }\n",
              "\n",
              "    .dataframe tbody tr th {\n",
              "        vertical-align: top;\n",
              "    }\n",
              "\n",
              "    .dataframe thead th {\n",
              "        text-align: right;\n",
              "    }\n",
              "</style>\n",
              "<table border=\"1\" class=\"dataframe\">\n",
              "  <thead>\n",
              "    <tr style=\"text-align: right;\">\n",
              "      <th></th>\n",
              "      <th>mean_fit_time</th>\n",
              "      <th>std_fit_time</th>\n",
              "      <th>mean_score_time</th>\n",
              "      <th>std_score_time</th>\n",
              "      <th>param_models</th>\n",
              "      <th>param_models__max_depth</th>\n",
              "      <th>param_models__max_leaf_nodes</th>\n",
              "      <th>param_models__normalize</th>\n",
              "      <th>param_models__num_leaves</th>\n",
              "      <th>params</th>\n",
              "      <th>split0_test_score</th>\n",
              "      <th>split1_test_score</th>\n",
              "      <th>split2_test_score</th>\n",
              "      <th>mean_test_score</th>\n",
              "      <th>std_test_score</th>\n",
              "      <th>rank_test_score</th>\n",
              "    </tr>\n",
              "  </thead>\n",
              "  <tbody>\n",
              "    <tr>\n",
              "      <th>0</th>\n",
              "      <td>0.434698</td>\n",
              "      <td>0.126853</td>\n",
              "      <td>0.013882</td>\n",
              "      <td>0.000490</td>\n",
              "      <td>RandomForestRegressor(random_state=42)</td>\n",
              "      <td>9</td>\n",
              "      <td>10</td>\n",
              "      <td>NaN</td>\n",
              "      <td>NaN</td>\n",
              "      <td>{'models': RandomForestRegressor(random_state=...</td>\n",
              "      <td>-28.669274</td>\n",
              "      <td>-29.321831</td>\n",
              "      <td>-39.565542</td>\n",
              "      <td>-32.518882</td>\n",
              "      <td>4.989858</td>\n",
              "      <td>6</td>\n",
              "    </tr>\n",
              "    <tr>\n",
              "      <th>1</th>\n",
              "      <td>0.434291</td>\n",
              "      <td>0.127692</td>\n",
              "      <td>0.013592</td>\n",
              "      <td>0.000321</td>\n",
              "      <td>RandomForestRegressor(random_state=42)</td>\n",
              "      <td>9</td>\n",
              "      <td>11</td>\n",
              "      <td>NaN</td>\n",
              "      <td>NaN</td>\n",
              "      <td>{'models': RandomForestRegressor(random_state=...</td>\n",
              "      <td>-28.510983</td>\n",
              "      <td>-29.089538</td>\n",
              "      <td>-39.124957</td>\n",
              "      <td>-32.241826</td>\n",
              "      <td>4.872836</td>\n",
              "      <td>5</td>\n",
              "    </tr>\n",
              "    <tr>\n",
              "      <th>2</th>\n",
              "      <td>0.096716</td>\n",
              "      <td>0.071625</td>\n",
              "      <td>0.028689</td>\n",
              "      <td>0.023507</td>\n",
              "      <td>LinearRegression()</td>\n",
              "      <td>NaN</td>\n",
              "      <td>NaN</td>\n",
              "      <td>True</td>\n",
              "      <td>NaN</td>\n",
              "      <td>{'models': LinearRegression(), 'models__normal...</td>\n",
              "      <td>-30.697963</td>\n",
              "      <td>-31.501025</td>\n",
              "      <td>-38.458780</td>\n",
              "      <td>-33.552589</td>\n",
              "      <td>3.484657</td>\n",
              "      <td>8</td>\n",
              "    </tr>\n",
              "    <tr>\n",
              "      <th>3</th>\n",
              "      <td>0.158430</td>\n",
              "      <td>0.040661</td>\n",
              "      <td>0.038048</td>\n",
              "      <td>0.042529</td>\n",
              "      <td>LinearRegression()</td>\n",
              "      <td>NaN</td>\n",
              "      <td>NaN</td>\n",
              "      <td>False</td>\n",
              "      <td>NaN</td>\n",
              "      <td>{'models': LinearRegression(), 'models__normal...</td>\n",
              "      <td>-30.697963</td>\n",
              "      <td>-31.501025</td>\n",
              "      <td>-38.458780</td>\n",
              "      <td>-33.552589</td>\n",
              "      <td>3.484657</td>\n",
              "      <td>7</td>\n",
              "    </tr>\n",
              "    <tr>\n",
              "      <th>4</th>\n",
              "      <td>0.424285</td>\n",
              "      <td>0.117360</td>\n",
              "      <td>0.007142</td>\n",
              "      <td>0.002643</td>\n",
              "      <td>LGBMRegressor(max_depth=8, num_leaves=9, rando...</td>\n",
              "      <td>7</td>\n",
              "      <td>NaN</td>\n",
              "      <td>NaN</td>\n",
              "      <td>8</td>\n",
              "      <td>{'models': LGBMRegressor(max_depth=8, num_leav...</td>\n",
              "      <td>-28.088811</td>\n",
              "      <td>-24.992341</td>\n",
              "      <td>-31.954050</td>\n",
              "      <td>-28.345067</td>\n",
              "      <td>2.847876</td>\n",
              "      <td>3</td>\n",
              "    </tr>\n",
              "    <tr>\n",
              "      <th>5</th>\n",
              "      <td>0.333796</td>\n",
              "      <td>0.050824</td>\n",
              "      <td>0.033657</td>\n",
              "      <td>0.040267</td>\n",
              "      <td>LGBMRegressor(max_depth=8, num_leaves=9, rando...</td>\n",
              "      <td>7</td>\n",
              "      <td>NaN</td>\n",
              "      <td>NaN</td>\n",
              "      <td>9</td>\n",
              "      <td>{'models': LGBMRegressor(max_depth=8, num_leav...</td>\n",
              "      <td>-27.999089</td>\n",
              "      <td>-24.900210</td>\n",
              "      <td>-32.001478</td>\n",
              "      <td>-28.300259</td>\n",
              "      <td>2.906892</td>\n",
              "      <td>2</td>\n",
              "    </tr>\n",
              "    <tr>\n",
              "      <th>6</th>\n",
              "      <td>0.360888</td>\n",
              "      <td>0.093428</td>\n",
              "      <td>0.039414</td>\n",
              "      <td>0.041097</td>\n",
              "      <td>LGBMRegressor(max_depth=8, num_leaves=9, rando...</td>\n",
              "      <td>8</td>\n",
              "      <td>NaN</td>\n",
              "      <td>NaN</td>\n",
              "      <td>8</td>\n",
              "      <td>{'models': LGBMRegressor(max_depth=8, num_leav...</td>\n",
              "      <td>-28.088811</td>\n",
              "      <td>-24.992341</td>\n",
              "      <td>-31.954050</td>\n",
              "      <td>-28.345067</td>\n",
              "      <td>2.847876</td>\n",
              "      <td>3</td>\n",
              "    </tr>\n",
              "    <tr>\n",
              "      <th>7</th>\n",
              "      <td>0.362151</td>\n",
              "      <td>0.094780</td>\n",
              "      <td>0.038057</td>\n",
              "      <td>0.042195</td>\n",
              "      <td>LGBMRegressor(max_depth=8, num_leaves=9, rando...</td>\n",
              "      <td>8</td>\n",
              "      <td>NaN</td>\n",
              "      <td>NaN</td>\n",
              "      <td>9</td>\n",
              "      <td>{'models': LGBMRegressor(max_depth=8, num_leav...</td>\n",
              "      <td>-27.700721</td>\n",
              "      <td>-24.865148</td>\n",
              "      <td>-31.751974</td>\n",
              "      <td>-28.105948</td>\n",
              "      <td>2.826099</td>\n",
              "      <td>1</td>\n",
              "    </tr>\n",
              "  </tbody>\n",
              "</table>\n",
              "</div>"
            ],
            "text/plain": [
              "   mean_fit_time  std_fit_time  mean_score_time  std_score_time  \\\n",
              "0       0.434698      0.126853         0.013882        0.000490   \n",
              "1       0.434291      0.127692         0.013592        0.000321   \n",
              "2       0.096716      0.071625         0.028689        0.023507   \n",
              "3       0.158430      0.040661         0.038048        0.042529   \n",
              "4       0.424285      0.117360         0.007142        0.002643   \n",
              "5       0.333796      0.050824         0.033657        0.040267   \n",
              "6       0.360888      0.093428         0.039414        0.041097   \n",
              "7       0.362151      0.094780         0.038057        0.042195   \n",
              "\n",
              "                                        param_models param_models__max_depth  \\\n",
              "0             RandomForestRegressor(random_state=42)                       9   \n",
              "1             RandomForestRegressor(random_state=42)                       9   \n",
              "2                                 LinearRegression()                     NaN   \n",
              "3                                 LinearRegression()                     NaN   \n",
              "4  LGBMRegressor(max_depth=8, num_leaves=9, rando...                       7   \n",
              "5  LGBMRegressor(max_depth=8, num_leaves=9, rando...                       7   \n",
              "6  LGBMRegressor(max_depth=8, num_leaves=9, rando...                       8   \n",
              "7  LGBMRegressor(max_depth=8, num_leaves=9, rando...                       8   \n",
              "\n",
              "  param_models__max_leaf_nodes param_models__normalize  \\\n",
              "0                           10                     NaN   \n",
              "1                           11                     NaN   \n",
              "2                          NaN                    True   \n",
              "3                          NaN                   False   \n",
              "4                          NaN                     NaN   \n",
              "5                          NaN                     NaN   \n",
              "6                          NaN                     NaN   \n",
              "7                          NaN                     NaN   \n",
              "\n",
              "  param_models__num_leaves                                             params  \\\n",
              "0                      NaN  {'models': RandomForestRegressor(random_state=...   \n",
              "1                      NaN  {'models': RandomForestRegressor(random_state=...   \n",
              "2                      NaN  {'models': LinearRegression(), 'models__normal...   \n",
              "3                      NaN  {'models': LinearRegression(), 'models__normal...   \n",
              "4                        8  {'models': LGBMRegressor(max_depth=8, num_leav...   \n",
              "5                        9  {'models': LGBMRegressor(max_depth=8, num_leav...   \n",
              "6                        8  {'models': LGBMRegressor(max_depth=8, num_leav...   \n",
              "7                        9  {'models': LGBMRegressor(max_depth=8, num_leav...   \n",
              "\n",
              "   split0_test_score  split1_test_score  split2_test_score  mean_test_score  \\\n",
              "0         -28.669274         -29.321831         -39.565542       -32.518882   \n",
              "1         -28.510983         -29.089538         -39.124957       -32.241826   \n",
              "2         -30.697963         -31.501025         -38.458780       -33.552589   \n",
              "3         -30.697963         -31.501025         -38.458780       -33.552589   \n",
              "4         -28.088811         -24.992341         -31.954050       -28.345067   \n",
              "5         -27.999089         -24.900210         -32.001478       -28.300259   \n",
              "6         -28.088811         -24.992341         -31.954050       -28.345067   \n",
              "7         -27.700721         -24.865148         -31.751974       -28.105948   \n",
              "\n",
              "   std_test_score  rank_test_score  \n",
              "0        4.989858                6  \n",
              "1        4.872836                5  \n",
              "2        3.484657                8  \n",
              "3        3.484657                7  \n",
              "4        2.847876                3  \n",
              "5        2.906892                2  \n",
              "6        2.847876                3  \n",
              "7        2.826099                1  "
            ]
          },
          "execution_count": 28,
          "metadata": {},
          "output_type": "execute_result"
        }
      ],
      "source": [
        "result = pd.DataFrame(search.cv_results_)\n",
        "result"
      ]
    },
    {
      "cell_type": "markdown",
      "metadata": {
        "id": "7lA2b2Co70ku"
      },
      "source": [
        "<u>Вывод по данному шагу</u>\n",
        "На данном шаге было обучено нескольео моделей. Лучшей моделью стала модель LGBMRegressor. Значение RMSE 28.1"
      ]
    },
    {
      "cell_type": "markdown",
      "metadata": {
        "id": "s-1TvAHC70kv"
      },
      "source": [
        "## Тестирование"
      ]
    },
    {
      "cell_type": "code",
      "execution_count": null,
      "metadata": {
        "id": "5VNIDfKx70kv"
      },
      "outputs": [],
      "source": [
        "y_pred = search.predict(X_test)"
      ]
    },
    {
      "cell_type": "code",
      "execution_count": null,
      "metadata": {
        "id": "hWdSUcGc70kv",
        "outputId": "dd80d7eb-60df-4a64-b683-0e452f9cc8e5"
      },
      "outputs": [
        {
          "name": "stdout",
          "output_type": "stream",
          "text": [
            "RMSE на тестовой выборке: 46.58474328965154\n"
          ]
        }
      ],
      "source": [
        "print( 'RMSE на тестовой выборке:', mean_squared_error( squared=False,y_true =y_test, y_pred=y_pred))"
      ]
    },
    {
      "cell_type": "code",
      "execution_count": null,
      "metadata": {
        "id": "e6uOa3nq70kv",
        "outputId": "659eabc3-e6a8-42fb-f681-41a4692df82c"
      },
      "outputs": [
        {
          "name": "stdout",
          "output_type": "stream",
          "text": [
            "RMSE на тестовой выборке-демми: 84.74025917460843\n"
          ]
        }
      ],
      "source": [
        "dummy = DummyRegressor(strategy='mean')\n",
        "dummy.fit(X_train,y_train)\n",
        "demmy_pred=dummy.predict(X_test)\n",
        "print( 'RMSE на тестовой выборке-демми:', mean_squared_error( squared=False,y_true =y_test, y_pred=demmy_pred))"
      ]
    },
    {
      "cell_type": "markdown",
      "metadata": {
        "id": "kmQvHsi-70kv"
      },
      "source": [
        "Проверка показала, что созданная модель работает лучше демми-модели со средними значениями."
      ]
    },
    {
      "cell_type": "code",
      "execution_count": null,
      "metadata": {
        "id": "8i2yo44X70kv"
      },
      "outputs": [],
      "source": [
        "y_pred=pd.Series(y_pred)"
      ]
    },
    {
      "cell_type": "code",
      "execution_count": null,
      "metadata": {
        "scrolled": true,
        "id": "HA5gSFxb70kv"
      },
      "outputs": [],
      "source": [
        "data=pd.DataFrame(y_test).reset_index()"
      ]
    },
    {
      "cell_type": "code",
      "execution_count": null,
      "metadata": {
        "id": "jC8abTK_70kv"
      },
      "outputs": [],
      "source": [
        "data2 = pd.DataFrame(y_pred)"
      ]
    },
    {
      "cell_type": "code",
      "execution_count": null,
      "metadata": {
        "id": "GrftTQ3j70kw"
      },
      "outputs": [],
      "source": [
        "result = data.join(data2)\n",
        "result['datetime']= pd.to_datetime(result['datetime'])\n",
        "result=result.set_index('datetime')"
      ]
    },
    {
      "cell_type": "code",
      "execution_count": null,
      "metadata": {
        "id": "zVSzaKWP70kw",
        "outputId": "ddad9c60-8caa-474f-e210-b6b7385b33f9"
      },
      "outputs": [
        {
          "data": {
            "image/png": "[encoded data removed]",
            "text/plain": [
              "<Figure size 720x432 with 1 Axes>"
            ]
          },
          "metadata": {
            "needs_background": "light"
          },
          "output_type": "display_data"
        }
      ],
      "source": [
        "result.plot()\n",
        "plt.title('График test')\n",
        "plt.ylabel('Количество поездок')\n",
        "plt.xlabel('Время')\n",
        "plt.legend(['y_test','y_pred'])\n",
        "plt.show()"
      ]
    },
    {
      "cell_type": "code",
      "execution_count": null,
      "metadata": {
        "id": "CWm6WzNv70kw",
        "outputId": "19d9a07a-e301-4238-84dc-7461ddbfa3c5"
      },
      "outputs": [
        {
          "data": {
            "image/png": "[encoded data removed]",
            "text/plain": [
              "<Figure size 720x432 with 1 Axes>"
            ]
          },
          "metadata": {
            "needs_background": "light"
          },
          "output_type": "display_data"
        }
      ],
      "source": [
        "result['2018-08-19':'2018-08-20'].plot()\n",
        "plt.title('График test')\n",
        "plt.ylabel('Количество поездок')\n",
        "plt.xlabel('Время')\n",
        "plt.legend(['y_test','y_pred'])\n",
        "plt.show()"
      ]
    },
    {
      "cell_type": "markdown",
      "metadata": {
        "id": "qNZUB1VT70kw"
      },
      "source": [
        "Модель хорошо определяет саму тенденцию роста или снижения количества заказов, среднее, но плохо определяет пики, сильно их сглаживает, часто показывая как будто среднее. Модель не учла общий рост заказов в конце месяца."
      ]
    },
    {
      "cell_type": "markdown",
      "metadata": {
        "id": "Pb3Hg01b70kw"
      },
      "source": [
        "## Вывод\n",
        "В данном проекте была создана модель для предсказания количеcтва нужного такси. Данная модель работает, метрика RMSE у нее равно 46,5"
      ]
    }
  ],
  "metadata": {
    "ExecuteTimeLog": [
      {
        "duration": 1721,
        "start_time": "2024-01-18T06:58:37.262Z"
      },
      {
        "duration": 112,
        "start_time": "2024-01-18T06:59:54.106Z"
      },
      {
        "duration": 12,
        "start_time": "2024-01-18T07:00:04.022Z"
      },
      {
        "duration": 48,
        "start_time": "2024-01-18T07:01:43.117Z"
      },
      {
        "duration": 9,
        "start_time": "2024-01-18T07:01:47.277Z"
      },
      {
        "duration": 130,
        "start_time": "2024-01-18T07:04:13.986Z"
      },
      {
        "duration": 13,
        "start_time": "2024-01-18T07:04:23.461Z"
      },
      {
        "duration": 7,
        "start_time": "2024-01-18T07:04:39.256Z"
      },
      {
        "duration": 10,
        "start_time": "2024-01-18T07:05:00.795Z"
      },
      {
        "duration": 5,
        "start_time": "2024-01-18T07:08:53.366Z"
      },
      {
        "duration": 13,
        "start_time": "2024-01-18T07:09:08.679Z"
      },
      {
        "duration": 12,
        "start_time": "2024-01-18T07:15:55.789Z"
      },
      {
        "duration": 340,
        "start_time": "2024-01-18T07:25:43.534Z"
      },
      {
        "duration": 236,
        "start_time": "2024-01-18T07:26:06.238Z"
      },
      {
        "duration": 243,
        "start_time": "2024-01-18T07:26:38.223Z"
      },
      {
        "duration": 232,
        "start_time": "2024-01-18T07:27:09.486Z"
      },
      {
        "duration": 241,
        "start_time": "2024-01-18T07:27:22.175Z"
      },
      {
        "duration": 275,
        "start_time": "2024-01-18T07:27:47.425Z"
      },
      {
        "duration": 329,
        "start_time": "2024-01-18T07:28:12.412Z"
      },
      {
        "duration": 224,
        "start_time": "2024-01-18T07:28:26.457Z"
      },
      {
        "duration": 2,
        "start_time": "2024-01-18T07:29:59.268Z"
      },
      {
        "duration": 9,
        "start_time": "2024-01-18T07:30:24.140Z"
      },
      {
        "duration": 5,
        "start_time": "2024-01-18T07:30:36.542Z"
      },
      {
        "duration": 253,
        "start_time": "2024-01-18T07:30:52.309Z"
      },
      {
        "duration": 245,
        "start_time": "2024-01-18T07:31:11.774Z"
      },
      {
        "duration": 28,
        "start_time": "2024-01-18T07:32:34.969Z"
      },
      {
        "duration": 18,
        "start_time": "2024-01-18T07:34:49.311Z"
      },
      {
        "duration": 889,
        "start_time": "2024-01-18T07:35:30.130Z"
      },
      {
        "duration": 184,
        "start_time": "2024-01-18T07:41:51.029Z"
      },
      {
        "duration": 189,
        "start_time": "2024-01-18T07:42:14.954Z"
      },
      {
        "duration": 193,
        "start_time": "2024-01-18T07:42:50.917Z"
      },
      {
        "duration": 3,
        "start_time": "2024-01-18T07:48:41.520Z"
      },
      {
        "duration": 3,
        "start_time": "2024-01-18T07:49:25.140Z"
      },
      {
        "duration": 726,
        "start_time": "2024-01-18T07:49:51.619Z"
      },
      {
        "duration": 5,
        "start_time": "2024-01-18T07:54:53.302Z"
      },
      {
        "duration": 4,
        "start_time": "2024-01-18T07:55:48.367Z"
      },
      {
        "duration": 14,
        "start_time": "2024-01-18T07:55:52.441Z"
      },
      {
        "duration": 5,
        "start_time": "2024-01-18T07:56:55.752Z"
      },
      {
        "duration": 1232,
        "start_time": "2024-01-18T07:56:58.036Z"
      },
      {
        "duration": 9,
        "start_time": "2024-01-18T07:57:48.413Z"
      },
      {
        "duration": 5,
        "start_time": "2024-01-18T07:57:59.793Z"
      },
      {
        "duration": 1219,
        "start_time": "2024-01-18T07:58:02.028Z"
      },
      {
        "duration": 4,
        "start_time": "2024-01-18T07:58:13.781Z"
      },
      {
        "duration": 9,
        "start_time": "2024-01-18T07:58:16.295Z"
      },
      {
        "duration": 14,
        "start_time": "2024-01-18T07:58:41.816Z"
      },
      {
        "duration": 7,
        "start_time": "2024-01-18T07:59:09.384Z"
      },
      {
        "duration": 15,
        "start_time": "2024-01-18T07:59:12.378Z"
      },
      {
        "duration": 915,
        "start_time": "2024-01-18T08:09:25.271Z"
      },
      {
        "duration": 3,
        "start_time": "2024-01-18T08:27:25.774Z"
      },
      {
        "duration": 18,
        "start_time": "2024-01-18T08:27:28.565Z"
      },
      {
        "duration": 12,
        "start_time": "2024-01-18T08:27:40.584Z"
      },
      {
        "duration": 6,
        "start_time": "2024-01-18T08:28:03.007Z"
      },
      {
        "duration": 6,
        "start_time": "2024-01-18T08:29:35.551Z"
      },
      {
        "duration": 3,
        "start_time": "2024-01-18T08:30:09.121Z"
      },
      {
        "duration": 3,
        "start_time": "2024-01-18T08:30:52.839Z"
      },
      {
        "duration": 3,
        "start_time": "2024-01-18T08:32:25.342Z"
      },
      {
        "duration": 6,
        "start_time": "2024-01-18T08:32:28.379Z"
      },
      {
        "duration": 2,
        "start_time": "2024-01-18T08:32:39.286Z"
      },
      {
        "duration": 4,
        "start_time": "2024-01-18T08:32:41.681Z"
      },
      {
        "duration": 4,
        "start_time": "2024-01-18T08:33:18.309Z"
      },
      {
        "duration": 3,
        "start_time": "2024-01-18T08:33:25.006Z"
      },
      {
        "duration": 4,
        "start_time": "2024-01-18T08:40:50.145Z"
      },
      {
        "duration": 4,
        "start_time": "2024-01-18T08:41:17.002Z"
      },
      {
        "duration": 1389,
        "start_time": "2024-01-18T08:42:20.789Z"
      },
      {
        "duration": 17,
        "start_time": "2024-01-18T08:44:18.107Z"
      },
      {
        "duration": 3,
        "start_time": "2024-01-18T08:47:00.837Z"
      },
      {
        "duration": 1212,
        "start_time": "2024-01-18T08:47:03.860Z"
      },
      {
        "duration": 20,
        "start_time": "2024-01-18T08:47:09.886Z"
      },
      {
        "duration": 94,
        "start_time": "2024-01-18T08:50:27.943Z"
      },
      {
        "duration": 73,
        "start_time": "2024-01-18T08:50:37.239Z"
      },
      {
        "duration": 4,
        "start_time": "2024-01-18T08:50:44.046Z"
      },
      {
        "duration": 5172,
        "start_time": "2024-01-18T08:50:47.307Z"
      },
      {
        "duration": 29,
        "start_time": "2024-01-18T08:51:01.202Z"
      },
      {
        "duration": 17,
        "start_time": "2024-01-18T08:51:58.758Z"
      },
      {
        "duration": 4,
        "start_time": "2024-01-18T08:54:25.720Z"
      },
      {
        "duration": 5094,
        "start_time": "2024-01-18T08:54:28.129Z"
      },
      {
        "duration": 63,
        "start_time": "2024-01-18T08:55:06.896Z"
      },
      {
        "duration": 28,
        "start_time": "2024-01-18T08:55:47.201Z"
      },
      {
        "duration": 5,
        "start_time": "2024-01-18T08:55:54.173Z"
      },
      {
        "duration": 27,
        "start_time": "2024-01-18T08:57:17.562Z"
      },
      {
        "duration": 1710,
        "start_time": "2024-01-18T09:03:23.300Z"
      },
      {
        "duration": 44,
        "start_time": "2024-01-18T09:03:25.012Z"
      },
      {
        "duration": 14,
        "start_time": "2024-01-18T09:03:25.058Z"
      },
      {
        "duration": 30,
        "start_time": "2024-01-18T09:03:25.074Z"
      },
      {
        "duration": 18,
        "start_time": "2024-01-18T09:03:25.106Z"
      },
      {
        "duration": 23,
        "start_time": "2024-01-18T09:03:25.125Z"
      },
      {
        "duration": 10,
        "start_time": "2024-01-18T09:03:25.150Z"
      },
      {
        "duration": 9,
        "start_time": "2024-01-18T09:03:25.162Z"
      },
      {
        "duration": 263,
        "start_time": "2024-01-18T09:03:25.173Z"
      },
      {
        "duration": 841,
        "start_time": "2024-01-18T09:03:25.439Z"
      },
      {
        "duration": 195,
        "start_time": "2024-01-18T09:03:26.282Z"
      },
      {
        "duration": 5,
        "start_time": "2024-01-18T09:03:26.478Z"
      },
      {
        "duration": 13,
        "start_time": "2024-01-18T09:03:26.485Z"
      },
      {
        "duration": 26,
        "start_time": "2024-01-18T09:03:26.500Z"
      },
      {
        "duration": 14,
        "start_time": "2024-01-18T09:03:26.527Z"
      },
      {
        "duration": 809,
        "start_time": "2024-01-18T09:03:26.543Z"
      },
      {
        "duration": 3,
        "start_time": "2024-01-18T09:03:27.354Z"
      },
      {
        "duration": 27,
        "start_time": "2024-01-18T09:03:27.358Z"
      },
      {
        "duration": 8,
        "start_time": "2024-01-18T09:03:27.387Z"
      },
      {
        "duration": 10,
        "start_time": "2024-01-18T09:03:27.397Z"
      },
      {
        "duration": 4,
        "start_time": "2024-01-18T09:03:27.409Z"
      },
      {
        "duration": 15,
        "start_time": "2024-01-18T09:03:27.415Z"
      },
      {
        "duration": 11,
        "start_time": "2024-01-18T09:03:27.432Z"
      },
      {
        "duration": 1651,
        "start_time": "2024-01-18T09:03:27.445Z"
      },
      {
        "duration": 4,
        "start_time": "2024-01-18T09:03:29.098Z"
      },
      {
        "duration": 35,
        "start_time": "2024-01-18T09:03:29.103Z"
      },
      {
        "duration": 4,
        "start_time": "2024-01-18T09:05:33.570Z"
      },
      {
        "duration": 1027,
        "start_time": "2024-01-18T09:05:35.931Z"
      },
      {
        "duration": 17,
        "start_time": "2024-01-18T09:05:48.358Z"
      },
      {
        "duration": 3,
        "start_time": "2024-01-18T09:07:24.964Z"
      },
      {
        "duration": 1071,
        "start_time": "2024-01-18T09:07:28.810Z"
      },
      {
        "duration": 5,
        "start_time": "2024-01-18T09:08:21.953Z"
      },
      {
        "duration": 14,
        "start_time": "2024-01-18T09:08:24.171Z"
      },
      {
        "duration": 4,
        "start_time": "2024-01-18T09:10:30.768Z"
      },
      {
        "duration": 156,
        "start_time": "2024-01-18T09:10:34.114Z"
      },
      {
        "duration": 4,
        "start_time": "2024-01-18T09:10:48.338Z"
      },
      {
        "duration": 1519,
        "start_time": "2024-01-18T09:10:48.938Z"
      },
      {
        "duration": 5,
        "start_time": "2024-01-18T09:10:56.574Z"
      },
      {
        "duration": 17,
        "start_time": "2024-01-18T09:10:59.238Z"
      },
      {
        "duration": 6,
        "start_time": "2024-01-18T09:12:42.475Z"
      },
      {
        "duration": 1162,
        "start_time": "2024-01-18T09:12:44.681Z"
      },
      {
        "duration": 4,
        "start_time": "2024-01-18T09:12:56.611Z"
      },
      {
        "duration": 13,
        "start_time": "2024-01-18T09:12:58.476Z"
      },
      {
        "duration": 4,
        "start_time": "2024-01-18T09:14:03.715Z"
      },
      {
        "duration": 1200,
        "start_time": "2024-01-18T09:14:05.492Z"
      },
      {
        "duration": 4,
        "start_time": "2024-01-18T09:14:09.778Z"
      },
      {
        "duration": 16,
        "start_time": "2024-01-18T09:14:12.537Z"
      },
      {
        "duration": 4,
        "start_time": "2024-01-18T09:15:41.114Z"
      },
      {
        "duration": 1741,
        "start_time": "2024-01-18T09:15:43.183Z"
      },
      {
        "duration": 4,
        "start_time": "2024-01-18T09:15:46.876Z"
      },
      {
        "duration": 15,
        "start_time": "2024-01-18T09:15:49.207Z"
      },
      {
        "duration": 4,
        "start_time": "2024-01-18T09:19:28.729Z"
      },
      {
        "duration": 1695,
        "start_time": "2024-01-18T09:19:30.888Z"
      },
      {
        "duration": 6,
        "start_time": "2024-01-18T09:19:37.585Z"
      },
      {
        "duration": 16,
        "start_time": "2024-01-18T09:19:39.892Z"
      },
      {
        "duration": 12,
        "start_time": "2024-01-18T09:24:25.835Z"
      },
      {
        "duration": 6,
        "start_time": "2024-01-18T09:24:38.043Z"
      },
      {
        "duration": 5,
        "start_time": "2024-01-18T09:25:02.324Z"
      },
      {
        "duration": 1573,
        "start_time": "2024-01-18T09:25:22.225Z"
      },
      {
        "duration": 45,
        "start_time": "2024-01-18T09:25:23.800Z"
      },
      {
        "duration": 12,
        "start_time": "2024-01-18T09:25:23.847Z"
      },
      {
        "duration": 20,
        "start_time": "2024-01-18T09:25:23.862Z"
      },
      {
        "duration": 11,
        "start_time": "2024-01-18T09:25:23.883Z"
      },
      {
        "duration": 20,
        "start_time": "2024-01-18T09:25:23.895Z"
      },
      {
        "duration": 14,
        "start_time": "2024-01-18T09:25:23.916Z"
      },
      {
        "duration": 9,
        "start_time": "2024-01-18T09:25:23.932Z"
      },
      {
        "duration": 265,
        "start_time": "2024-01-18T09:25:23.943Z"
      },
      {
        "duration": 856,
        "start_time": "2024-01-18T09:25:24.212Z"
      },
      {
        "duration": 195,
        "start_time": "2024-01-18T09:25:25.070Z"
      },
      {
        "duration": 4,
        "start_time": "2024-01-18T09:25:25.267Z"
      },
      {
        "duration": 16,
        "start_time": "2024-01-18T09:25:25.273Z"
      },
      {
        "duration": 8,
        "start_time": "2024-01-18T09:25:25.291Z"
      },
      {
        "duration": 31,
        "start_time": "2024-01-18T09:25:25.301Z"
      },
      {
        "duration": 808,
        "start_time": "2024-01-18T09:25:25.334Z"
      },
      {
        "duration": 4,
        "start_time": "2024-01-18T09:25:26.144Z"
      },
      {
        "duration": 10,
        "start_time": "2024-01-18T09:25:26.150Z"
      },
      {
        "duration": 15,
        "start_time": "2024-01-18T09:25:26.161Z"
      },
      {
        "duration": 13,
        "start_time": "2024-01-18T09:25:26.178Z"
      },
      {
        "duration": 9,
        "start_time": "2024-01-18T09:25:26.193Z"
      },
      {
        "duration": 11,
        "start_time": "2024-01-18T09:25:26.204Z"
      },
      {
        "duration": 7,
        "start_time": "2024-01-18T09:25:26.217Z"
      },
      {
        "duration": 1683,
        "start_time": "2024-01-18T09:25:26.226Z"
      },
      {
        "duration": 7,
        "start_time": "2024-01-18T09:25:27.922Z"
      },
      {
        "duration": 22,
        "start_time": "2024-01-18T09:25:27.931Z"
      },
      {
        "duration": 63,
        "start_time": "2024-01-18T09:25:27.962Z"
      },
      {
        "duration": 10,
        "start_time": "2024-01-18T09:25:28.029Z"
      },
      {
        "duration": 79,
        "start_time": "2024-01-18T09:28:04.225Z"
      },
      {
        "duration": 4,
        "start_time": "2024-01-18T09:28:15.576Z"
      },
      {
        "duration": 328,
        "start_time": "2024-01-18T09:28:18.095Z"
      },
      {
        "duration": 4,
        "start_time": "2024-01-18T09:29:14.814Z"
      },
      {
        "duration": 199,
        "start_time": "2024-01-18T09:29:17.179Z"
      },
      {
        "duration": 13,
        "start_time": "2024-01-18T09:32:44.051Z"
      },
      {
        "duration": 5,
        "start_time": "2024-01-18T09:32:54.637Z"
      },
      {
        "duration": 11,
        "start_time": "2024-01-18T09:33:08.150Z"
      },
      {
        "duration": 11,
        "start_time": "2024-01-18T09:34:08.560Z"
      },
      {
        "duration": 12,
        "start_time": "2024-01-18T09:37:55.598Z"
      },
      {
        "duration": 4,
        "start_time": "2024-01-18T09:41:40.568Z"
      },
      {
        "duration": 4,
        "start_time": "2024-01-18T09:44:43.955Z"
      },
      {
        "duration": 204,
        "start_time": "2024-01-18T09:44:48.755Z"
      },
      {
        "duration": 4,
        "start_time": "2024-01-18T09:45:24.652Z"
      },
      {
        "duration": 206,
        "start_time": "2024-01-18T09:45:26.872Z"
      },
      {
        "duration": 9,
        "start_time": "2024-01-18T09:45:48.811Z"
      },
      {
        "duration": 4,
        "start_time": "2024-01-18T09:47:25.071Z"
      },
      {
        "duration": 1996,
        "start_time": "2024-01-18T09:47:27.810Z"
      },
      {
        "duration": 7,
        "start_time": "2024-01-18T09:47:47.985Z"
      },
      {
        "duration": 5,
        "start_time": "2024-01-18T09:47:50.464Z"
      },
      {
        "duration": 15,
        "start_time": "2024-01-18T09:52:57.731Z"
      },
      {
        "duration": 1490,
        "start_time": "2024-01-18T09:53:11.184Z"
      },
      {
        "duration": 47,
        "start_time": "2024-01-18T09:53:12.677Z"
      },
      {
        "duration": 11,
        "start_time": "2024-01-18T09:53:12.726Z"
      },
      {
        "duration": 19,
        "start_time": "2024-01-18T09:53:12.739Z"
      },
      {
        "duration": 7,
        "start_time": "2024-01-18T09:53:12.759Z"
      },
      {
        "duration": 7,
        "start_time": "2024-01-18T09:53:12.768Z"
      },
      {
        "duration": 12,
        "start_time": "2024-01-18T09:53:12.776Z"
      },
      {
        "duration": 34,
        "start_time": "2024-01-18T09:53:12.789Z"
      },
      {
        "duration": 259,
        "start_time": "2024-01-18T09:53:12.825Z"
      },
      {
        "duration": 859,
        "start_time": "2024-01-18T09:53:13.087Z"
      },
      {
        "duration": 202,
        "start_time": "2024-01-18T09:53:13.947Z"
      },
      {
        "duration": 4,
        "start_time": "2024-01-18T09:53:14.151Z"
      },
      {
        "duration": 13,
        "start_time": "2024-01-18T09:53:14.157Z"
      },
      {
        "duration": 8,
        "start_time": "2024-01-18T09:53:14.171Z"
      },
      {
        "duration": 14,
        "start_time": "2024-01-18T09:53:14.181Z"
      },
      {
        "duration": 846,
        "start_time": "2024-01-18T09:53:14.197Z"
      },
      {
        "duration": 12,
        "start_time": "2024-01-18T09:53:15.045Z"
      },
      {
        "duration": 50,
        "start_time": "2024-01-18T09:53:15.060Z"
      },
      {
        "duration": 80,
        "start_time": "2024-01-18T09:53:15.112Z"
      },
      {
        "duration": 65,
        "start_time": "2024-01-18T09:53:15.193Z"
      },
      {
        "duration": 32,
        "start_time": "2024-01-18T09:53:15.260Z"
      },
      {
        "duration": 44,
        "start_time": "2024-01-18T09:53:15.294Z"
      },
      {
        "duration": 29,
        "start_time": "2024-01-18T09:53:15.340Z"
      },
      {
        "duration": 2475,
        "start_time": "2024-01-18T09:53:15.371Z"
      },
      {
        "duration": 8,
        "start_time": "2024-01-18T09:53:17.856Z"
      },
      {
        "duration": 62,
        "start_time": "2024-01-18T09:53:17.865Z"
      },
      {
        "duration": 11,
        "start_time": "2024-01-18T09:53:17.929Z"
      },
      {
        "duration": 10,
        "start_time": "2024-01-18T09:53:17.943Z"
      },
      {
        "duration": 3,
        "start_time": "2024-01-18T09:54:39.830Z"
      },
      {
        "duration": 1727,
        "start_time": "2024-01-18T09:54:41.965Z"
      },
      {
        "duration": 7,
        "start_time": "2024-01-18T09:54:52.049Z"
      },
      {
        "duration": 4,
        "start_time": "2024-01-18T09:54:55.361Z"
      },
      {
        "duration": 4,
        "start_time": "2024-01-18T09:55:11.888Z"
      },
      {
        "duration": 4,
        "start_time": "2024-01-18T09:58:30.889Z"
      },
      {
        "duration": 321,
        "start_time": "2024-01-18T09:58:35.036Z"
      },
      {
        "duration": 4,
        "start_time": "2024-01-18T10:02:44.316Z"
      },
      {
        "duration": 5,
        "start_time": "2024-01-18T10:03:35.995Z"
      },
      {
        "duration": 2925,
        "start_time": "2024-01-18T10:03:48.298Z"
      },
      {
        "duration": 7,
        "start_time": "2024-01-18T10:04:11.948Z"
      },
      {
        "duration": 5,
        "start_time": "2024-01-18T10:04:14.526Z"
      },
      {
        "duration": 4,
        "start_time": "2024-01-18T10:05:04.067Z"
      },
      {
        "duration": 10169,
        "start_time": "2024-01-18T10:05:06.928Z"
      },
      {
        "duration": 7,
        "start_time": "2024-01-18T10:05:43.599Z"
      },
      {
        "duration": 4,
        "start_time": "2024-01-18T10:05:46.838Z"
      },
      {
        "duration": 4,
        "start_time": "2024-01-18T10:06:01.342Z"
      },
      {
        "duration": 8286,
        "start_time": "2024-01-18T10:06:03.615Z"
      },
      {
        "duration": 7,
        "start_time": "2024-01-18T10:06:25.715Z"
      },
      {
        "duration": 4,
        "start_time": "2024-01-18T10:06:27.692Z"
      },
      {
        "duration": 4,
        "start_time": "2024-01-18T10:06:43.299Z"
      },
      {
        "duration": 7629,
        "start_time": "2024-01-18T10:06:46.205Z"
      },
      {
        "duration": 7,
        "start_time": "2024-01-18T10:07:03.181Z"
      },
      {
        "duration": 4,
        "start_time": "2024-01-18T10:07:07.688Z"
      },
      {
        "duration": 4,
        "start_time": "2024-01-18T10:07:20.379Z"
      },
      {
        "duration": 6412,
        "start_time": "2024-01-18T10:07:22.860Z"
      },
      {
        "duration": 7,
        "start_time": "2024-01-18T10:07:37.512Z"
      },
      {
        "duration": 4,
        "start_time": "2024-01-18T10:07:40.391Z"
      },
      {
        "duration": 7,
        "start_time": "2024-01-18T10:07:45.092Z"
      },
      {
        "duration": 5,
        "start_time": "2024-01-18T10:07:47.794Z"
      },
      {
        "duration": 5,
        "start_time": "2024-01-18T10:08:03.327Z"
      },
      {
        "duration": 5878,
        "start_time": "2024-01-18T10:08:05.850Z"
      },
      {
        "duration": 7,
        "start_time": "2024-01-18T10:08:22.732Z"
      },
      {
        "duration": 4,
        "start_time": "2024-01-18T10:08:24.377Z"
      },
      {
        "duration": 4,
        "start_time": "2024-01-18T10:08:44.171Z"
      },
      {
        "duration": 4314,
        "start_time": "2024-01-18T10:08:46.209Z"
      },
      {
        "duration": 6,
        "start_time": "2024-01-18T10:09:00.859Z"
      },
      {
        "duration": 4,
        "start_time": "2024-01-18T10:09:03.085Z"
      },
      {
        "duration": 3,
        "start_time": "2024-01-18T10:09:18.594Z"
      },
      {
        "duration": 3751,
        "start_time": "2024-01-18T10:09:20.859Z"
      },
      {
        "duration": 7,
        "start_time": "2024-01-18T10:09:42.479Z"
      },
      {
        "duration": 5,
        "start_time": "2024-01-18T10:09:45.122Z"
      },
      {
        "duration": 4,
        "start_time": "2024-01-18T10:10:07.926Z"
      },
      {
        "duration": 2878,
        "start_time": "2024-01-18T10:10:10.032Z"
      },
      {
        "duration": 6,
        "start_time": "2024-01-18T10:10:21.266Z"
      },
      {
        "duration": 4,
        "start_time": "2024-01-18T10:10:23.956Z"
      },
      {
        "duration": 4,
        "start_time": "2024-01-18T10:12:16.078Z"
      },
      {
        "duration": 5380,
        "start_time": "2024-01-18T10:12:17.426Z"
      },
      {
        "duration": 6,
        "start_time": "2024-01-18T10:12:32.556Z"
      },
      {
        "duration": 5,
        "start_time": "2024-01-18T10:12:35.881Z"
      },
      {
        "duration": 5,
        "start_time": "2024-01-18T10:13:20.083Z"
      },
      {
        "duration": 4,
        "start_time": "2024-01-18T10:13:34.519Z"
      },
      {
        "duration": 8770,
        "start_time": "2024-01-18T10:13:36.853Z"
      },
      {
        "duration": 7,
        "start_time": "2024-01-18T10:13:56.005Z"
      },
      {
        "duration": 5,
        "start_time": "2024-01-18T10:13:59.368Z"
      },
      {
        "duration": 6,
        "start_time": "2024-01-18T10:14:13.556Z"
      },
      {
        "duration": 6992,
        "start_time": "2024-01-18T10:14:16.832Z"
      },
      {
        "duration": 6,
        "start_time": "2024-01-18T10:14:33.689Z"
      },
      {
        "duration": 4,
        "start_time": "2024-01-18T10:14:38.180Z"
      },
      {
        "duration": 5,
        "start_time": "2024-01-18T10:16:38.947Z"
      },
      {
        "duration": 214,
        "start_time": "2024-01-18T10:16:41.207Z"
      },
      {
        "duration": 4,
        "start_time": "2024-01-18T10:16:56.749Z"
      },
      {
        "duration": 2069,
        "start_time": "2024-01-18T10:16:58.322Z"
      },
      {
        "duration": 7,
        "start_time": "2024-01-18T10:17:09.421Z"
      },
      {
        "duration": 5,
        "start_time": "2024-01-18T10:17:11.335Z"
      },
      {
        "duration": 5,
        "start_time": "2024-01-18T10:24:13.604Z"
      },
      {
        "duration": 4,
        "start_time": "2024-01-18T10:24:20.401Z"
      },
      {
        "duration": 6484,
        "start_time": "2024-01-18T10:24:23.101Z"
      },
      {
        "duration": 7,
        "start_time": "2024-01-18T10:24:39.248Z"
      },
      {
        "duration": 4,
        "start_time": "2024-01-18T10:24:41.258Z"
      },
      {
        "duration": 1578,
        "start_time": "2024-01-18T10:25:13.511Z"
      },
      {
        "duration": 46,
        "start_time": "2024-01-18T10:25:15.091Z"
      },
      {
        "duration": 12,
        "start_time": "2024-01-18T10:25:15.138Z"
      },
      {
        "duration": 40,
        "start_time": "2024-01-18T10:25:15.152Z"
      },
      {
        "duration": 26,
        "start_time": "2024-01-18T10:25:15.193Z"
      },
      {
        "duration": 24,
        "start_time": "2024-01-18T10:25:15.221Z"
      },
      {
        "duration": 28,
        "start_time": "2024-01-18T10:25:15.247Z"
      },
      {
        "duration": 29,
        "start_time": "2024-01-18T10:25:15.277Z"
      },
      {
        "duration": 259,
        "start_time": "2024-01-18T10:25:15.307Z"
      },
      {
        "duration": 844,
        "start_time": "2024-01-18T10:25:15.568Z"
      },
      {
        "duration": 199,
        "start_time": "2024-01-18T10:25:16.414Z"
      },
      {
        "duration": 9,
        "start_time": "2024-01-18T10:25:16.614Z"
      },
      {
        "duration": 52,
        "start_time": "2024-01-18T10:25:16.625Z"
      },
      {
        "duration": 17,
        "start_time": "2024-01-18T10:25:16.679Z"
      },
      {
        "duration": 32,
        "start_time": "2024-01-18T10:25:16.698Z"
      },
      {
        "duration": 1048,
        "start_time": "2024-01-18T10:25:16.732Z"
      },
      {
        "duration": 3,
        "start_time": "2024-01-18T10:25:17.782Z"
      },
      {
        "duration": 25,
        "start_time": "2024-01-18T10:25:17.786Z"
      },
      {
        "duration": 29,
        "start_time": "2024-01-18T10:25:17.813Z"
      },
      {
        "duration": 30,
        "start_time": "2024-01-18T10:25:17.843Z"
      },
      {
        "duration": 20,
        "start_time": "2024-01-18T10:25:17.874Z"
      },
      {
        "duration": 27,
        "start_time": "2024-01-18T10:25:17.896Z"
      },
      {
        "duration": 48,
        "start_time": "2024-01-18T10:25:17.925Z"
      },
      {
        "duration": 6050,
        "start_time": "2024-01-18T10:25:17.976Z"
      },
      {
        "duration": 5,
        "start_time": "2024-01-18T10:25:24.028Z"
      },
      {
        "duration": 106,
        "start_time": "2024-01-18T10:25:24.034Z"
      },
      {
        "duration": 39,
        "start_time": "2024-01-18T10:25:24.142Z"
      },
      {
        "duration": 43,
        "start_time": "2024-01-18T10:25:24.184Z"
      },
      {
        "duration": 1581,
        "start_time": "2024-01-18T10:26:20.726Z"
      },
      {
        "duration": 45,
        "start_time": "2024-01-18T10:26:22.308Z"
      },
      {
        "duration": 10,
        "start_time": "2024-01-18T10:26:22.355Z"
      },
      {
        "duration": 12,
        "start_time": "2024-01-18T10:26:22.367Z"
      },
      {
        "duration": 11,
        "start_time": "2024-01-18T10:26:22.381Z"
      },
      {
        "duration": 18,
        "start_time": "2024-01-18T10:26:22.394Z"
      },
      {
        "duration": 16,
        "start_time": "2024-01-18T10:26:22.414Z"
      },
      {
        "duration": 9,
        "start_time": "2024-01-18T10:26:22.432Z"
      },
      {
        "duration": 253,
        "start_time": "2024-01-18T10:26:22.442Z"
      },
      {
        "duration": 852,
        "start_time": "2024-01-18T10:26:22.698Z"
      },
      {
        "duration": 195,
        "start_time": "2024-01-18T10:26:23.552Z"
      },
      {
        "duration": 5,
        "start_time": "2024-01-18T10:26:23.749Z"
      },
      {
        "duration": 11,
        "start_time": "2024-01-18T10:26:23.755Z"
      },
      {
        "duration": 7,
        "start_time": "2024-01-18T10:26:23.768Z"
      },
      {
        "duration": 10,
        "start_time": "2024-01-18T10:26:23.777Z"
      },
      {
        "duration": 557,
        "start_time": "2024-01-18T10:26:23.788Z"
      },
      {
        "duration": 2,
        "start_time": "2024-01-18T10:26:24.347Z"
      },
      {
        "duration": 7,
        "start_time": "2024-01-18T10:26:24.351Z"
      },
      {
        "duration": 8,
        "start_time": "2024-01-18T10:26:24.360Z"
      },
      {
        "duration": 25,
        "start_time": "2024-01-18T10:26:24.369Z"
      },
      {
        "duration": 19,
        "start_time": "2024-01-18T10:26:24.396Z"
      },
      {
        "duration": 6,
        "start_time": "2024-01-18T10:26:24.417Z"
      },
      {
        "duration": 5,
        "start_time": "2024-01-18T10:26:24.424Z"
      },
      {
        "duration": 1505,
        "start_time": "2024-01-18T10:26:24.431Z"
      },
      {
        "duration": 0,
        "start_time": "2024-01-18T10:26:25.938Z"
      },
      {
        "duration": 0,
        "start_time": "2024-01-18T10:26:25.939Z"
      },
      {
        "duration": 0,
        "start_time": "2024-01-18T10:26:25.940Z"
      },
      {
        "duration": 0,
        "start_time": "2024-01-18T10:26:25.941Z"
      },
      {
        "duration": 1566,
        "start_time": "2024-01-18T10:27:46.539Z"
      },
      {
        "duration": 45,
        "start_time": "2024-01-18T10:27:48.107Z"
      },
      {
        "duration": 11,
        "start_time": "2024-01-18T10:27:48.153Z"
      },
      {
        "duration": 23,
        "start_time": "2024-01-18T10:27:48.166Z"
      },
      {
        "duration": 15,
        "start_time": "2024-01-18T10:27:48.191Z"
      },
      {
        "duration": 15,
        "start_time": "2024-01-18T10:27:48.208Z"
      },
      {
        "duration": 13,
        "start_time": "2024-01-18T10:27:48.226Z"
      },
      {
        "duration": 9,
        "start_time": "2024-01-18T10:27:48.241Z"
      },
      {
        "duration": 255,
        "start_time": "2024-01-18T10:27:48.252Z"
      },
      {
        "duration": 852,
        "start_time": "2024-01-18T10:27:48.511Z"
      },
      {
        "duration": 195,
        "start_time": "2024-01-18T10:27:49.364Z"
      },
      {
        "duration": 5,
        "start_time": "2024-01-18T10:27:49.560Z"
      },
      {
        "duration": 28,
        "start_time": "2024-01-18T10:27:49.566Z"
      },
      {
        "duration": 12,
        "start_time": "2024-01-18T10:27:49.595Z"
      },
      {
        "duration": 13,
        "start_time": "2024-01-18T10:27:49.608Z"
      },
      {
        "duration": 716,
        "start_time": "2024-01-18T10:27:49.623Z"
      },
      {
        "duration": 3,
        "start_time": "2024-01-18T10:27:50.340Z"
      },
      {
        "duration": 10,
        "start_time": "2024-01-18T10:27:50.345Z"
      },
      {
        "duration": 18,
        "start_time": "2024-01-18T10:27:50.356Z"
      },
      {
        "duration": 31,
        "start_time": "2024-01-18T10:27:50.376Z"
      },
      {
        "duration": 13,
        "start_time": "2024-01-18T10:27:50.409Z"
      },
      {
        "duration": 7,
        "start_time": "2024-01-18T10:27:50.424Z"
      },
      {
        "duration": 17,
        "start_time": "2024-01-18T10:27:50.432Z"
      },
      {
        "duration": 1516,
        "start_time": "2024-01-18T10:27:50.451Z"
      },
      {
        "duration": 0,
        "start_time": "2024-01-18T10:27:51.970Z"
      },
      {
        "duration": 0,
        "start_time": "2024-01-18T10:27:51.971Z"
      },
      {
        "duration": 0,
        "start_time": "2024-01-18T10:27:51.973Z"
      },
      {
        "duration": 0,
        "start_time": "2024-01-18T10:27:51.974Z"
      },
      {
        "duration": 3,
        "start_time": "2024-01-18T10:28:41.119Z"
      },
      {
        "duration": 2,
        "start_time": "2024-01-18T10:28:44.476Z"
      },
      {
        "duration": 3,
        "start_time": "2024-01-18T10:28:46.422Z"
      },
      {
        "duration": 5,
        "start_time": "2024-01-18T10:28:47.752Z"
      },
      {
        "duration": 6061,
        "start_time": "2024-01-18T10:28:49.429Z"
      },
      {
        "duration": 5,
        "start_time": "2024-01-18T10:29:02.878Z"
      },
      {
        "duration": 26,
        "start_time": "2024-01-18T10:29:04.179Z"
      },
      {
        "duration": 9,
        "start_time": "2024-01-18T10:29:08.558Z"
      },
      {
        "duration": 4,
        "start_time": "2024-01-18T10:29:09.462Z"
      },
      {
        "duration": 5,
        "start_time": "2024-01-18T10:33:30.155Z"
      },
      {
        "duration": 12,
        "start_time": "2024-01-18T10:33:32.881Z"
      },
      {
        "duration": 1595,
        "start_time": "2024-01-18T10:33:51.211Z"
      },
      {
        "duration": 45,
        "start_time": "2024-01-18T10:33:52.808Z"
      },
      {
        "duration": 11,
        "start_time": "2024-01-18T10:33:52.855Z"
      },
      {
        "duration": 17,
        "start_time": "2024-01-18T10:33:52.868Z"
      },
      {
        "duration": 18,
        "start_time": "2024-01-18T10:33:52.887Z"
      },
      {
        "duration": 8,
        "start_time": "2024-01-18T10:33:52.907Z"
      },
      {
        "duration": 13,
        "start_time": "2024-01-18T10:33:52.916Z"
      },
      {
        "duration": 10,
        "start_time": "2024-01-18T10:33:52.930Z"
      },
      {
        "duration": 265,
        "start_time": "2024-01-18T10:33:52.941Z"
      },
      {
        "duration": 846,
        "start_time": "2024-01-18T10:33:53.208Z"
      },
      {
        "duration": 201,
        "start_time": "2024-01-18T10:33:54.056Z"
      },
      {
        "duration": 6,
        "start_time": "2024-01-18T10:33:54.259Z"
      },
      {
        "duration": 21,
        "start_time": "2024-01-18T10:33:54.267Z"
      },
      {
        "duration": 8,
        "start_time": "2024-01-18T10:33:54.289Z"
      },
      {
        "duration": 35,
        "start_time": "2024-01-18T10:33:54.298Z"
      },
      {
        "duration": 1620,
        "start_time": "2024-01-18T10:33:54.335Z"
      },
      {
        "duration": 3,
        "start_time": "2024-01-18T10:33:55.957Z"
      },
      {
        "duration": 43,
        "start_time": "2024-01-18T10:33:55.962Z"
      },
      {
        "duration": 25,
        "start_time": "2024-01-18T10:33:56.007Z"
      },
      {
        "duration": 36,
        "start_time": "2024-01-18T10:33:56.034Z"
      },
      {
        "duration": 27,
        "start_time": "2024-01-18T10:33:56.072Z"
      },
      {
        "duration": 28,
        "start_time": "2024-01-18T10:33:56.101Z"
      },
      {
        "duration": 12,
        "start_time": "2024-01-18T10:33:56.131Z"
      },
      {
        "duration": 11234,
        "start_time": "2024-01-18T10:33:56.145Z"
      },
      {
        "duration": 5,
        "start_time": "2024-01-18T10:34:07.381Z"
      },
      {
        "duration": 150,
        "start_time": "2024-01-18T10:34:07.388Z"
      },
      {
        "duration": 8,
        "start_time": "2024-01-18T10:34:07.540Z"
      },
      {
        "duration": 5,
        "start_time": "2024-01-18T10:34:07.552Z"
      },
      {
        "duration": 69,
        "start_time": "2024-01-18T10:34:35.358Z"
      },
      {
        "duration": 3,
        "start_time": "2024-01-18T10:34:48.664Z"
      },
      {
        "duration": 2,
        "start_time": "2024-01-18T10:34:51.597Z"
      },
      {
        "duration": 4,
        "start_time": "2024-01-18T10:34:54.644Z"
      },
      {
        "duration": 6,
        "start_time": "2024-01-18T10:34:55.198Z"
      },
      {
        "duration": 12637,
        "start_time": "2024-01-18T10:34:55.669Z"
      },
      {
        "duration": 7,
        "start_time": "2024-01-18T10:35:18.044Z"
      },
      {
        "duration": 5,
        "start_time": "2024-01-18T10:35:21.374Z"
      },
      {
        "duration": 1635,
        "start_time": "2024-01-18T10:36:01.736Z"
      },
      {
        "duration": 46,
        "start_time": "2024-01-18T10:36:03.373Z"
      },
      {
        "duration": 12,
        "start_time": "2024-01-18T10:36:03.420Z"
      },
      {
        "duration": 12,
        "start_time": "2024-01-18T10:36:03.434Z"
      },
      {
        "duration": 14,
        "start_time": "2024-01-18T10:36:03.448Z"
      },
      {
        "duration": 9,
        "start_time": "2024-01-18T10:36:03.463Z"
      },
      {
        "duration": 15,
        "start_time": "2024-01-18T10:36:03.473Z"
      },
      {
        "duration": 37,
        "start_time": "2024-01-18T10:36:03.490Z"
      },
      {
        "duration": 270,
        "start_time": "2024-01-18T10:36:03.530Z"
      },
      {
        "duration": 848,
        "start_time": "2024-01-18T10:36:03.803Z"
      },
      {
        "duration": 213,
        "start_time": "2024-01-18T10:36:04.652Z"
      },
      {
        "duration": 5,
        "start_time": "2024-01-18T10:36:04.866Z"
      },
      {
        "duration": 21,
        "start_time": "2024-01-18T10:36:04.875Z"
      },
      {
        "duration": 7,
        "start_time": "2024-01-18T10:36:04.899Z"
      },
      {
        "duration": 26,
        "start_time": "2024-01-18T10:36:04.908Z"
      },
      {
        "duration": 1073,
        "start_time": "2024-01-18T10:36:04.936Z"
      },
      {
        "duration": 12,
        "start_time": "2024-01-18T10:36:06.011Z"
      },
      {
        "duration": 14,
        "start_time": "2024-01-18T10:36:06.025Z"
      },
      {
        "duration": 18,
        "start_time": "2024-01-18T10:36:06.041Z"
      },
      {
        "duration": 7,
        "start_time": "2024-01-18T10:36:06.061Z"
      },
      {
        "duration": 10,
        "start_time": "2024-01-18T10:36:06.069Z"
      },
      {
        "duration": 6,
        "start_time": "2024-01-18T10:36:06.080Z"
      },
      {
        "duration": 11,
        "start_time": "2024-01-18T10:36:06.089Z"
      },
      {
        "duration": 8372,
        "start_time": "2024-01-18T10:36:06.102Z"
      },
      {
        "duration": 7,
        "start_time": "2024-01-18T10:36:14.476Z"
      },
      {
        "duration": 28,
        "start_time": "2024-01-18T10:36:14.524Z"
      },
      {
        "duration": 7,
        "start_time": "2024-01-18T10:36:14.624Z"
      },
      {
        "duration": 9,
        "start_time": "2024-01-18T10:36:14.633Z"
      },
      {
        "duration": 5,
        "start_time": "2024-01-18T10:40:50.161Z"
      },
      {
        "duration": 17,
        "start_time": "2024-01-18T10:41:12.458Z"
      },
      {
        "duration": 1223,
        "start_time": "2024-01-18T10:41:35.154Z"
      },
      {
        "duration": 7,
        "start_time": "2024-01-18T10:41:53.754Z"
      },
      {
        "duration": 4,
        "start_time": "2024-01-18T10:41:56.630Z"
      },
      {
        "duration": 2,
        "start_time": "2024-01-18T10:42:11.569Z"
      },
      {
        "duration": 11,
        "start_time": "2024-01-18T10:42:11.576Z"
      },
      {
        "duration": 3,
        "start_time": "2024-01-18T10:42:12.841Z"
      },
      {
        "duration": 6,
        "start_time": "2024-01-18T10:42:14.047Z"
      },
      {
        "duration": 9081,
        "start_time": "2024-01-18T10:42:15.047Z"
      },
      {
        "duration": 7,
        "start_time": "2024-01-18T10:42:36.625Z"
      },
      {
        "duration": 5,
        "start_time": "2024-01-18T10:42:41.467Z"
      },
      {
        "duration": 5,
        "start_time": "2024-01-18T10:43:24.731Z"
      },
      {
        "duration": 16,
        "start_time": "2024-01-18T10:43:30.694Z"
      },
      {
        "duration": 1606,
        "start_time": "2024-01-18T10:43:40.684Z"
      },
      {
        "duration": 46,
        "start_time": "2024-01-18T10:43:42.292Z"
      },
      {
        "duration": 11,
        "start_time": "2024-01-18T10:43:42.340Z"
      },
      {
        "duration": 11,
        "start_time": "2024-01-18T10:43:42.353Z"
      },
      {
        "duration": 10,
        "start_time": "2024-01-18T10:43:42.366Z"
      },
      {
        "duration": 11,
        "start_time": "2024-01-18T10:43:42.377Z"
      },
      {
        "duration": 11,
        "start_time": "2024-01-18T10:43:42.390Z"
      },
      {
        "duration": 9,
        "start_time": "2024-01-18T10:43:42.424Z"
      },
      {
        "duration": 271,
        "start_time": "2024-01-18T10:43:42.435Z"
      },
      {
        "duration": 859,
        "start_time": "2024-01-18T10:43:42.709Z"
      },
      {
        "duration": 196,
        "start_time": "2024-01-18T10:43:43.571Z"
      },
      {
        "duration": 4,
        "start_time": "2024-01-18T10:43:43.769Z"
      },
      {
        "duration": 15,
        "start_time": "2024-01-18T10:43:43.775Z"
      },
      {
        "duration": 7,
        "start_time": "2024-01-18T10:43:43.792Z"
      },
      {
        "duration": 33,
        "start_time": "2024-01-18T10:43:43.800Z"
      },
      {
        "duration": 7,
        "start_time": "2024-01-18T10:43:43.835Z"
      },
      {
        "duration": 1224,
        "start_time": "2024-01-18T10:43:43.843Z"
      },
      {
        "duration": 3,
        "start_time": "2024-01-18T10:43:45.069Z"
      },
      {
        "duration": 77,
        "start_time": "2024-01-18T10:43:45.073Z"
      },
      {
        "duration": 35,
        "start_time": "2024-01-18T10:43:45.152Z"
      },
      {
        "duration": 32,
        "start_time": "2024-01-18T10:43:45.189Z"
      },
      {
        "duration": 61,
        "start_time": "2024-01-18T10:43:45.222Z"
      },
      {
        "duration": 65,
        "start_time": "2024-01-18T10:43:45.285Z"
      },
      {
        "duration": 70,
        "start_time": "2024-01-18T10:43:45.352Z"
      },
      {
        "duration": 8736,
        "start_time": "2024-01-18T10:43:45.424Z"
      },
      {
        "duration": 7,
        "start_time": "2024-01-18T10:43:54.162Z"
      },
      {
        "duration": 153,
        "start_time": "2024-01-18T10:43:54.171Z"
      },
      {
        "duration": 11,
        "start_time": "2024-01-18T10:43:54.327Z"
      },
      {
        "duration": 26,
        "start_time": "2024-01-18T10:43:54.339Z"
      },
      {
        "duration": 4,
        "start_time": "2024-01-18T10:44:03.255Z"
      },
      {
        "duration": 5,
        "start_time": "2024-01-18T10:50:06.683Z"
      },
      {
        "duration": 1589,
        "start_time": "2024-01-18T10:51:30.148Z"
      },
      {
        "duration": 45,
        "start_time": "2024-01-18T10:51:31.738Z"
      },
      {
        "duration": 51,
        "start_time": "2024-01-18T10:51:31.785Z"
      },
      {
        "duration": 42,
        "start_time": "2024-01-18T10:51:31.839Z"
      },
      {
        "duration": 23,
        "start_time": "2024-01-18T10:51:31.882Z"
      },
      {
        "duration": 13,
        "start_time": "2024-01-18T10:51:31.907Z"
      },
      {
        "duration": 16,
        "start_time": "2024-01-18T10:51:31.922Z"
      },
      {
        "duration": 9,
        "start_time": "2024-01-18T10:51:31.940Z"
      },
      {
        "duration": 261,
        "start_time": "2024-01-18T10:51:31.951Z"
      },
      {
        "duration": 827,
        "start_time": "2024-01-18T10:51:32.215Z"
      },
      {
        "duration": 202,
        "start_time": "2024-01-18T10:51:33.044Z"
      },
      {
        "duration": 4,
        "start_time": "2024-01-18T10:51:33.248Z"
      },
      {
        "duration": 81,
        "start_time": "2024-01-18T10:51:33.254Z"
      },
      {
        "duration": 40,
        "start_time": "2024-01-18T10:51:33.337Z"
      },
      {
        "duration": 38,
        "start_time": "2024-01-18T10:51:33.379Z"
      },
      {
        "duration": 1038,
        "start_time": "2024-01-18T10:51:33.418Z"
      },
      {
        "duration": 3,
        "start_time": "2024-01-18T10:51:34.458Z"
      },
      {
        "duration": 11,
        "start_time": "2024-01-18T10:51:34.463Z"
      },
      {
        "duration": 10,
        "start_time": "2024-01-18T10:51:34.476Z"
      },
      {
        "duration": 3,
        "start_time": "2024-01-18T10:51:34.488Z"
      },
      {
        "duration": 16,
        "start_time": "2024-01-18T10:51:34.493Z"
      },
      {
        "duration": 15,
        "start_time": "2024-01-18T10:51:34.510Z"
      },
      {
        "duration": 6,
        "start_time": "2024-01-18T10:51:34.527Z"
      },
      {
        "duration": 135,
        "start_time": "2024-01-18T10:51:34.534Z"
      },
      {
        "duration": 0,
        "start_time": "2024-01-18T10:51:34.671Z"
      },
      {
        "duration": 0,
        "start_time": "2024-01-18T10:51:34.672Z"
      },
      {
        "duration": 0,
        "start_time": "2024-01-18T10:51:34.673Z"
      },
      {
        "duration": 0,
        "start_time": "2024-01-18T10:51:34.674Z"
      },
      {
        "duration": 5,
        "start_time": "2024-01-18T10:53:09.922Z"
      },
      {
        "duration": 14,
        "start_time": "2024-01-18T10:53:12.005Z"
      },
      {
        "duration": 4,
        "start_time": "2024-01-18T10:53:29.087Z"
      },
      {
        "duration": 14,
        "start_time": "2024-01-18T10:53:31.098Z"
      },
      {
        "duration": 4,
        "start_time": "2024-01-18T10:55:05.753Z"
      },
      {
        "duration": 13,
        "start_time": "2024-01-18T10:55:08.219Z"
      },
      {
        "duration": 6,
        "start_time": "2024-01-18T10:55:45.555Z"
      },
      {
        "duration": 19,
        "start_time": "2024-01-18T10:55:49.890Z"
      },
      {
        "duration": 1528,
        "start_time": "2024-01-18T10:55:59.947Z"
      },
      {
        "duration": 46,
        "start_time": "2024-01-18T10:56:01.478Z"
      },
      {
        "duration": 10,
        "start_time": "2024-01-18T10:56:01.526Z"
      },
      {
        "duration": 37,
        "start_time": "2024-01-18T10:56:01.538Z"
      },
      {
        "duration": 32,
        "start_time": "2024-01-18T10:56:01.577Z"
      },
      {
        "duration": 40,
        "start_time": "2024-01-18T10:56:01.611Z"
      },
      {
        "duration": 31,
        "start_time": "2024-01-18T10:56:01.652Z"
      },
      {
        "duration": 33,
        "start_time": "2024-01-18T10:56:01.685Z"
      },
      {
        "duration": 297,
        "start_time": "2024-01-18T10:56:01.720Z"
      },
      {
        "duration": 814,
        "start_time": "2024-01-18T10:56:02.019Z"
      },
      {
        "duration": 196,
        "start_time": "2024-01-18T10:56:02.834Z"
      },
      {
        "duration": 4,
        "start_time": "2024-01-18T10:56:03.032Z"
      },
      {
        "duration": 45,
        "start_time": "2024-01-18T10:56:03.038Z"
      },
      {
        "duration": 26,
        "start_time": "2024-01-18T10:56:03.086Z"
      },
      {
        "duration": 32,
        "start_time": "2024-01-18T10:56:03.114Z"
      },
      {
        "duration": 1077,
        "start_time": "2024-01-18T10:56:03.148Z"
      },
      {
        "duration": 3,
        "start_time": "2024-01-18T10:56:04.227Z"
      },
      {
        "duration": 46,
        "start_time": "2024-01-18T10:56:04.231Z"
      },
      {
        "duration": 35,
        "start_time": "2024-01-18T10:56:04.279Z"
      },
      {
        "duration": 26,
        "start_time": "2024-01-18T10:56:04.315Z"
      },
      {
        "duration": 17,
        "start_time": "2024-01-18T10:56:04.343Z"
      },
      {
        "duration": 34,
        "start_time": "2024-01-18T10:56:04.362Z"
      },
      {
        "duration": 42,
        "start_time": "2024-01-18T10:56:04.398Z"
      },
      {
        "duration": 180,
        "start_time": "2024-01-18T10:56:04.441Z"
      },
      {
        "duration": 0,
        "start_time": "2024-01-18T10:56:04.623Z"
      },
      {
        "duration": 0,
        "start_time": "2024-01-18T10:56:04.625Z"
      },
      {
        "duration": 0,
        "start_time": "2024-01-18T10:56:04.626Z"
      },
      {
        "duration": 0,
        "start_time": "2024-01-18T10:56:04.627Z"
      },
      {
        "duration": 4,
        "start_time": "2024-01-18T10:56:36.875Z"
      },
      {
        "duration": 1225,
        "start_time": "2024-01-18T10:56:39.089Z"
      },
      {
        "duration": 3,
        "start_time": "2024-01-18T10:56:55.844Z"
      },
      {
        "duration": 3,
        "start_time": "2024-01-18T10:56:59.044Z"
      },
      {
        "duration": 2,
        "start_time": "2024-01-18T10:57:01.046Z"
      },
      {
        "duration": 4,
        "start_time": "2024-01-18T10:57:01.276Z"
      },
      {
        "duration": 2781,
        "start_time": "2024-01-18T10:57:02.744Z"
      },
      {
        "duration": 12,
        "start_time": "2024-01-18T10:58:07.245Z"
      },
      {
        "duration": 5,
        "start_time": "2024-01-18T10:58:28.837Z"
      },
      {
        "duration": 7092,
        "start_time": "2024-01-18T10:58:31.201Z"
      },
      {
        "duration": 44,
        "start_time": "2024-01-18T10:59:15.935Z"
      },
      {
        "duration": 5,
        "start_time": "2024-01-18T11:00:06.251Z"
      },
      {
        "duration": 4885,
        "start_time": "2024-01-18T11:00:08.438Z"
      },
      {
        "duration": 6,
        "start_time": "2024-01-18T11:00:26.405Z"
      },
      {
        "duration": 4,
        "start_time": "2024-01-18T11:00:29.519Z"
      },
      {
        "duration": 4,
        "start_time": "2024-01-18T11:00:59.040Z"
      },
      {
        "duration": 2608,
        "start_time": "2024-01-18T11:01:01.129Z"
      },
      {
        "duration": 5,
        "start_time": "2024-01-18T11:01:41.843Z"
      },
      {
        "duration": 3328,
        "start_time": "2024-01-18T11:01:44.013Z"
      },
      {
        "duration": 5,
        "start_time": "2024-01-18T11:02:52.900Z"
      },
      {
        "duration": 2983,
        "start_time": "2024-01-18T11:02:55.155Z"
      },
      {
        "duration": 5,
        "start_time": "2024-01-18T11:06:45.413Z"
      },
      {
        "duration": 2669,
        "start_time": "2024-01-18T11:06:47.766Z"
      },
      {
        "duration": 6,
        "start_time": "2024-01-18T11:07:20.726Z"
      },
      {
        "duration": 4392,
        "start_time": "2024-01-18T11:07:22.219Z"
      },
      {
        "duration": 4,
        "start_time": "2024-01-18T11:08:07.100Z"
      },
      {
        "duration": 5834,
        "start_time": "2024-01-18T11:08:08.641Z"
      },
      {
        "duration": 42,
        "start_time": "2024-01-18T11:08:26.916Z"
      },
      {
        "duration": 4,
        "start_time": "2024-01-18T11:09:52.783Z"
      },
      {
        "duration": 7289,
        "start_time": "2024-01-18T11:09:55.221Z"
      },
      {
        "duration": 43,
        "start_time": "2024-01-18T11:10:07.057Z"
      },
      {
        "duration": 4,
        "start_time": "2024-01-18T11:11:24.295Z"
      },
      {
        "duration": 1621,
        "start_time": "2024-01-18T11:16:00.888Z"
      },
      {
        "duration": 45,
        "start_time": "2024-01-18T11:16:02.512Z"
      },
      {
        "duration": 12,
        "start_time": "2024-01-18T11:16:02.559Z"
      },
      {
        "duration": 60,
        "start_time": "2024-01-18T11:16:02.573Z"
      },
      {
        "duration": 74,
        "start_time": "2024-01-18T11:16:02.635Z"
      },
      {
        "duration": 14,
        "start_time": "2024-01-18T11:16:02.711Z"
      },
      {
        "duration": 34,
        "start_time": "2024-01-18T11:16:02.727Z"
      },
      {
        "duration": 10,
        "start_time": "2024-01-18T11:16:02.763Z"
      },
      {
        "duration": 274,
        "start_time": "2024-01-18T11:16:02.775Z"
      },
      {
        "duration": 841,
        "start_time": "2024-01-18T11:16:03.051Z"
      },
      {
        "duration": 200,
        "start_time": "2024-01-18T11:16:03.894Z"
      },
      {
        "duration": 4,
        "start_time": "2024-01-18T11:16:04.096Z"
      },
      {
        "duration": 23,
        "start_time": "2024-01-18T11:16:04.102Z"
      },
      {
        "duration": 9,
        "start_time": "2024-01-18T11:16:04.127Z"
      },
      {
        "duration": 38,
        "start_time": "2024-01-18T11:16:04.137Z"
      },
      {
        "duration": 1076,
        "start_time": "2024-01-18T11:16:04.177Z"
      },
      {
        "duration": 3,
        "start_time": "2024-01-18T11:16:05.256Z"
      },
      {
        "duration": 165,
        "start_time": "2024-01-18T11:16:05.262Z"
      },
      {
        "duration": 13,
        "start_time": "2024-01-18T11:16:05.429Z"
      },
      {
        "duration": 11,
        "start_time": "2024-01-18T11:16:05.444Z"
      },
      {
        "duration": 21,
        "start_time": "2024-01-18T11:16:05.456Z"
      },
      {
        "duration": 27,
        "start_time": "2024-01-18T11:16:05.479Z"
      },
      {
        "duration": 6,
        "start_time": "2024-01-18T11:16:05.507Z"
      },
      {
        "duration": 14762,
        "start_time": "2024-01-18T11:16:05.514Z"
      },
      {
        "duration": 156,
        "start_time": "2024-01-18T11:16:20.279Z"
      },
      {
        "duration": 7,
        "start_time": "2024-01-18T11:16:20.436Z"
      },
      {
        "duration": 6,
        "start_time": "2024-01-18T11:16:20.445Z"
      },
      {
        "duration": 1529,
        "start_time": "2024-01-18T11:19:52.949Z"
      },
      {
        "duration": 45,
        "start_time": "2024-01-18T11:19:54.480Z"
      },
      {
        "duration": 24,
        "start_time": "2024-01-18T11:19:54.527Z"
      },
      {
        "duration": 18,
        "start_time": "2024-01-18T11:19:54.554Z"
      },
      {
        "duration": 25,
        "start_time": "2024-01-18T11:19:54.574Z"
      },
      {
        "duration": 32,
        "start_time": "2024-01-18T11:19:54.601Z"
      },
      {
        "duration": 28,
        "start_time": "2024-01-18T11:19:54.635Z"
      },
      {
        "duration": 13,
        "start_time": "2024-01-18T11:19:54.665Z"
      },
      {
        "duration": 308,
        "start_time": "2024-01-18T11:19:54.681Z"
      },
      {
        "duration": 885,
        "start_time": "2024-01-18T11:19:54.991Z"
      },
      {
        "duration": 201,
        "start_time": "2024-01-18T11:19:55.878Z"
      },
      {
        "duration": 6,
        "start_time": "2024-01-18T11:19:56.081Z"
      },
      {
        "duration": 21,
        "start_time": "2024-01-18T11:19:56.089Z"
      },
      {
        "duration": 7,
        "start_time": "2024-01-18T11:19:56.123Z"
      },
      {
        "duration": 61,
        "start_time": "2024-01-18T11:19:56.132Z"
      },
      {
        "duration": 1078,
        "start_time": "2024-01-18T11:19:56.195Z"
      },
      {
        "duration": 3,
        "start_time": "2024-01-18T11:19:57.275Z"
      },
      {
        "duration": 23,
        "start_time": "2024-01-18T11:19:57.280Z"
      },
      {
        "duration": 16,
        "start_time": "2024-01-18T11:19:57.305Z"
      },
      {
        "duration": 10,
        "start_time": "2024-01-18T11:19:57.323Z"
      },
      {
        "duration": 27,
        "start_time": "2024-01-18T11:19:57.335Z"
      },
      {
        "duration": 33,
        "start_time": "2024-01-18T11:19:57.364Z"
      },
      {
        "duration": 22,
        "start_time": "2024-01-18T11:19:57.399Z"
      },
      {
        "duration": 15439,
        "start_time": "2024-01-18T11:19:57.422Z"
      },
      {
        "duration": 170,
        "start_time": "2024-01-18T11:20:12.863Z"
      },
      {
        "duration": 17,
        "start_time": "2024-01-18T11:20:13.035Z"
      },
      {
        "duration": 23,
        "start_time": "2024-01-18T11:20:13.053Z"
      },
      {
        "duration": 1544,
        "start_time": "2024-01-18T11:22:01.749Z"
      },
      {
        "duration": 45,
        "start_time": "2024-01-18T11:22:03.296Z"
      },
      {
        "duration": 11,
        "start_time": "2024-01-18T11:22:03.343Z"
      },
      {
        "duration": 13,
        "start_time": "2024-01-18T11:22:03.356Z"
      },
      {
        "duration": 11,
        "start_time": "2024-01-18T11:22:03.371Z"
      },
      {
        "duration": 11,
        "start_time": "2024-01-18T11:22:03.383Z"
      },
      {
        "duration": 12,
        "start_time": "2024-01-18T11:22:03.395Z"
      },
      {
        "duration": 22,
        "start_time": "2024-01-18T11:22:03.408Z"
      },
      {
        "duration": 259,
        "start_time": "2024-01-18T11:22:03.432Z"
      },
      {
        "duration": 853,
        "start_time": "2024-01-18T11:22:03.694Z"
      },
      {
        "duration": 192,
        "start_time": "2024-01-18T11:22:04.549Z"
      },
      {
        "duration": 4,
        "start_time": "2024-01-18T11:22:04.743Z"
      },
      {
        "duration": 33,
        "start_time": "2024-01-18T11:22:04.749Z"
      },
      {
        "duration": 19,
        "start_time": "2024-01-18T11:22:04.784Z"
      },
      {
        "duration": 34,
        "start_time": "2024-01-18T11:22:04.805Z"
      },
      {
        "duration": 1044,
        "start_time": "2024-01-18T11:22:04.840Z"
      },
      {
        "duration": 3,
        "start_time": "2024-01-18T11:22:05.886Z"
      },
      {
        "duration": 11,
        "start_time": "2024-01-18T11:22:05.890Z"
      },
      {
        "duration": 14,
        "start_time": "2024-01-18T11:22:05.902Z"
      },
      {
        "duration": 3,
        "start_time": "2024-01-18T11:22:05.923Z"
      },
      {
        "duration": 6,
        "start_time": "2024-01-18T11:22:05.928Z"
      },
      {
        "duration": 18,
        "start_time": "2024-01-18T11:22:05.935Z"
      },
      {
        "duration": 19,
        "start_time": "2024-01-18T11:22:05.955Z"
      },
      {
        "duration": 14855,
        "start_time": "2024-01-18T11:22:05.975Z"
      },
      {
        "duration": 202,
        "start_time": "2024-01-18T11:22:20.832Z"
      },
      {
        "duration": 7,
        "start_time": "2024-01-18T11:22:21.035Z"
      },
      {
        "duration": 17,
        "start_time": "2024-01-18T11:22:21.043Z"
      },
      {
        "duration": 12,
        "start_time": "2024-01-18T11:24:24.314Z"
      },
      {
        "duration": 4,
        "start_time": "2024-01-18T11:24:31.990Z"
      },
      {
        "duration": 32398,
        "start_time": "2024-01-18T11:24:34.379Z"
      },
      {
        "duration": 56,
        "start_time": "2024-01-18T11:25:23.689Z"
      },
      {
        "duration": 5,
        "start_time": "2024-01-18T11:28:34.562Z"
      },
      {
        "duration": 1544,
        "start_time": "2024-01-18T11:29:13.580Z"
      },
      {
        "duration": 45,
        "start_time": "2024-01-18T11:29:15.126Z"
      },
      {
        "duration": 11,
        "start_time": "2024-01-18T11:29:15.173Z"
      },
      {
        "duration": 31,
        "start_time": "2024-01-18T11:29:15.187Z"
      },
      {
        "duration": 40,
        "start_time": "2024-01-18T11:29:15.219Z"
      },
      {
        "duration": 11,
        "start_time": "2024-01-18T11:29:15.261Z"
      },
      {
        "duration": 26,
        "start_time": "2024-01-18T11:29:15.273Z"
      },
      {
        "duration": 14,
        "start_time": "2024-01-18T11:29:15.301Z"
      },
      {
        "duration": 311,
        "start_time": "2024-01-18T11:29:15.317Z"
      },
      {
        "duration": 819,
        "start_time": "2024-01-18T11:29:15.631Z"
      },
      {
        "duration": 198,
        "start_time": "2024-01-18T11:29:16.452Z"
      },
      {
        "duration": 5,
        "start_time": "2024-01-18T11:29:16.652Z"
      },
      {
        "duration": 38,
        "start_time": "2024-01-18T11:29:16.658Z"
      },
      {
        "duration": 12,
        "start_time": "2024-01-18T11:29:16.698Z"
      },
      {
        "duration": 16,
        "start_time": "2024-01-18T11:29:16.711Z"
      },
      {
        "duration": 1195,
        "start_time": "2024-01-18T11:29:16.729Z"
      },
      {
        "duration": 3,
        "start_time": "2024-01-18T11:29:17.925Z"
      },
      {
        "duration": 70,
        "start_time": "2024-01-18T11:29:17.929Z"
      },
      {
        "duration": 18,
        "start_time": "2024-01-18T11:29:18.001Z"
      },
      {
        "duration": 21,
        "start_time": "2024-01-18T11:29:18.020Z"
      },
      {
        "duration": 19,
        "start_time": "2024-01-18T11:29:18.042Z"
      },
      {
        "duration": 13,
        "start_time": "2024-01-18T11:29:18.063Z"
      },
      {
        "duration": 29,
        "start_time": "2024-01-18T11:29:18.078Z"
      },
      {
        "duration": 34559,
        "start_time": "2024-01-18T11:29:18.109Z"
      },
      {
        "duration": 56,
        "start_time": "2024-01-18T11:29:52.670Z"
      },
      {
        "duration": 20,
        "start_time": "2024-01-18T11:29:52.727Z"
      },
      {
        "duration": 4,
        "start_time": "2024-01-18T11:29:52.748Z"
      },
      {
        "duration": 1563,
        "start_time": "2024-01-18T11:31:41.141Z"
      },
      {
        "duration": 46,
        "start_time": "2024-01-18T11:31:42.706Z"
      },
      {
        "duration": 11,
        "start_time": "2024-01-18T11:31:42.754Z"
      },
      {
        "duration": 40,
        "start_time": "2024-01-18T11:31:42.767Z"
      },
      {
        "duration": 20,
        "start_time": "2024-01-18T11:31:42.809Z"
      },
      {
        "duration": 13,
        "start_time": "2024-01-18T11:31:42.831Z"
      },
      {
        "duration": 41,
        "start_time": "2024-01-18T11:31:42.846Z"
      },
      {
        "duration": 23,
        "start_time": "2024-01-18T11:31:42.889Z"
      },
      {
        "duration": 277,
        "start_time": "2024-01-18T11:31:42.914Z"
      },
      {
        "duration": 834,
        "start_time": "2024-01-18T11:31:43.194Z"
      },
      {
        "duration": 196,
        "start_time": "2024-01-18T11:31:44.030Z"
      },
      {
        "duration": 4,
        "start_time": "2024-01-18T11:31:44.228Z"
      },
      {
        "duration": 17,
        "start_time": "2024-01-18T11:31:44.234Z"
      },
      {
        "duration": 7,
        "start_time": "2024-01-18T11:31:44.253Z"
      },
      {
        "duration": 14,
        "start_time": "2024-01-18T11:31:44.261Z"
      },
      {
        "duration": 1091,
        "start_time": "2024-01-18T11:31:44.277Z"
      },
      {
        "duration": 2,
        "start_time": "2024-01-18T11:31:45.370Z"
      },
      {
        "duration": 47,
        "start_time": "2024-01-18T11:31:45.374Z"
      },
      {
        "duration": 27,
        "start_time": "2024-01-18T11:31:45.423Z"
      },
      {
        "duration": 8,
        "start_time": "2024-01-18T11:31:45.451Z"
      },
      {
        "duration": 19,
        "start_time": "2024-01-18T11:31:45.460Z"
      },
      {
        "duration": 8,
        "start_time": "2024-01-18T11:31:45.481Z"
      },
      {
        "duration": 7,
        "start_time": "2024-01-18T11:31:45.491Z"
      },
      {
        "duration": 34467,
        "start_time": "2024-01-18T11:31:45.500Z"
      },
      {
        "duration": 162,
        "start_time": "2024-01-18T11:32:19.969Z"
      },
      {
        "duration": 5,
        "start_time": "2024-01-18T11:32:20.133Z"
      },
      {
        "duration": 10,
        "start_time": "2024-01-18T11:32:20.139Z"
      },
      {
        "duration": 5,
        "start_time": "2024-01-18T11:33:45.653Z"
      },
      {
        "duration": 37951,
        "start_time": "2024-01-18T11:33:48.404Z"
      },
      {
        "duration": 4,
        "start_time": "2024-01-18T11:34:26.358Z"
      },
      {
        "duration": 59,
        "start_time": "2024-01-18T11:34:43.154Z"
      },
      {
        "duration": 37816,
        "start_time": "2024-01-18T11:34:59.927Z"
      },
      {
        "duration": 59,
        "start_time": "2024-01-18T11:36:13.451Z"
      },
      {
        "duration": 5,
        "start_time": "2024-01-18T11:37:00.274Z"
      },
      {
        "duration": 5,
        "start_time": "2024-01-18T11:37:02.596Z"
      },
      {
        "duration": 5,
        "start_time": "2024-01-18T11:37:30.681Z"
      },
      {
        "duration": 32092,
        "start_time": "2024-01-18T11:37:33.562Z"
      },
      {
        "duration": 5,
        "start_time": "2024-01-18T11:39:17.557Z"
      },
      {
        "duration": 18041,
        "start_time": "2024-01-18T11:39:20.066Z"
      },
      {
        "duration": 7,
        "start_time": "2024-01-18T11:39:49.977Z"
      },
      {
        "duration": 5,
        "start_time": "2024-01-18T11:39:53.325Z"
      },
      {
        "duration": 34,
        "start_time": "2024-01-18T11:40:09.346Z"
      },
      {
        "duration": 4,
        "start_time": "2024-01-18T11:42:12.899Z"
      },
      {
        "duration": 17137,
        "start_time": "2024-01-18T11:42:15.665Z"
      },
      {
        "duration": 34,
        "start_time": "2024-01-18T11:42:52.819Z"
      },
      {
        "duration": 4,
        "start_time": "2024-01-18T11:44:26.080Z"
      },
      {
        "duration": 13936,
        "start_time": "2024-01-18T11:44:28.762Z"
      },
      {
        "duration": 42,
        "start_time": "2024-01-18T11:44:48.949Z"
      },
      {
        "duration": 5,
        "start_time": "2024-01-18T11:46:48.475Z"
      },
      {
        "duration": 11667,
        "start_time": "2024-01-18T11:46:50.995Z"
      },
      {
        "duration": 30,
        "start_time": "2024-01-18T11:47:13.123Z"
      },
      {
        "duration": 17,
        "start_time": "2024-01-18T11:47:31.985Z"
      },
      {
        "duration": 5,
        "start_time": "2024-01-18T11:47:34.495Z"
      },
      {
        "duration": 5,
        "start_time": "2024-01-18T11:55:47.749Z"
      },
      {
        "duration": 18291,
        "start_time": "2024-01-18T11:55:50.242Z"
      },
      {
        "duration": 9,
        "start_time": "2024-01-18T11:56:27.048Z"
      },
      {
        "duration": 5,
        "start_time": "2024-01-18T11:56:29.963Z"
      },
      {
        "duration": 35,
        "start_time": "2024-01-18T11:59:00.205Z"
      },
      {
        "duration": 4,
        "start_time": "2024-01-18T12:01:47.223Z"
      },
      {
        "duration": 20257,
        "start_time": "2024-01-18T12:01:49.468Z"
      },
      {
        "duration": 39,
        "start_time": "2024-01-18T12:02:52.371Z"
      },
      {
        "duration": 7,
        "start_time": "2024-01-18T12:03:36.562Z"
      },
      {
        "duration": 9574,
        "start_time": "2024-01-18T12:03:39.760Z"
      },
      {
        "duration": 27,
        "start_time": "2024-01-18T12:04:42.462Z"
      },
      {
        "duration": 9,
        "start_time": "2024-01-18T12:05:28.110Z"
      },
      {
        "duration": 4,
        "start_time": "2024-01-18T12:05:31.161Z"
      },
      {
        "duration": 1761,
        "start_time": "2024-01-18T12:14:45.809Z"
      },
      {
        "duration": 45,
        "start_time": "2024-01-18T12:14:47.572Z"
      },
      {
        "duration": 11,
        "start_time": "2024-01-18T12:14:47.619Z"
      },
      {
        "duration": 11,
        "start_time": "2024-01-18T12:14:47.633Z"
      },
      {
        "duration": 19,
        "start_time": "2024-01-18T12:14:47.645Z"
      },
      {
        "duration": 9,
        "start_time": "2024-01-18T12:14:47.666Z"
      },
      {
        "duration": 19,
        "start_time": "2024-01-18T12:14:47.677Z"
      },
      {
        "duration": 10,
        "start_time": "2024-01-18T12:14:47.698Z"
      },
      {
        "duration": 263,
        "start_time": "2024-01-18T12:14:47.723Z"
      },
      {
        "duration": 882,
        "start_time": "2024-01-18T12:14:47.989Z"
      },
      {
        "duration": 197,
        "start_time": "2024-01-18T12:14:48.873Z"
      },
      {
        "duration": 14,
        "start_time": "2024-01-18T12:14:49.072Z"
      },
      {
        "duration": 9,
        "start_time": "2024-01-18T12:14:49.087Z"
      },
      {
        "duration": 35,
        "start_time": "2024-01-18T12:14:49.097Z"
      },
      {
        "duration": 1031,
        "start_time": "2024-01-18T12:14:49.134Z"
      },
      {
        "duration": 3,
        "start_time": "2024-01-18T12:14:50.167Z"
      },
      {
        "duration": 7,
        "start_time": "2024-01-18T12:14:50.172Z"
      },
      {
        "duration": 5,
        "start_time": "2024-01-18T12:14:50.181Z"
      },
      {
        "duration": 3,
        "start_time": "2024-01-18T12:14:50.188Z"
      },
      {
        "duration": 3,
        "start_time": "2024-01-18T12:14:50.223Z"
      },
      {
        "duration": 10,
        "start_time": "2024-01-18T12:14:50.228Z"
      },
      {
        "duration": 4,
        "start_time": "2024-01-18T12:14:50.239Z"
      },
      {
        "duration": 19094,
        "start_time": "2024-01-18T12:14:50.244Z"
      },
      {
        "duration": 27,
        "start_time": "2024-01-18T12:15:09.424Z"
      },
      {
        "duration": 70,
        "start_time": "2024-01-18T12:15:09.453Z"
      },
      {
        "duration": 5,
        "start_time": "2024-01-18T12:15:09.525Z"
      },
      {
        "duration": 1625,
        "start_time": "2024-01-18T12:16:19.089Z"
      },
      {
        "duration": 57,
        "start_time": "2024-01-18T12:16:20.716Z"
      },
      {
        "duration": 13,
        "start_time": "2024-01-18T12:16:20.776Z"
      },
      {
        "duration": 28,
        "start_time": "2024-01-18T12:16:20.792Z"
      },
      {
        "duration": 19,
        "start_time": "2024-01-18T12:16:20.822Z"
      },
      {
        "duration": 12,
        "start_time": "2024-01-18T12:16:20.842Z"
      },
      {
        "duration": 28,
        "start_time": "2024-01-18T12:16:20.856Z"
      },
      {
        "duration": 12,
        "start_time": "2024-01-18T12:16:20.887Z"
      },
      {
        "duration": 277,
        "start_time": "2024-01-18T12:16:20.901Z"
      },
      {
        "duration": 857,
        "start_time": "2024-01-18T12:16:21.182Z"
      },
      {
        "duration": 212,
        "start_time": "2024-01-18T12:16:22.042Z"
      },
      {
        "duration": 13,
        "start_time": "2024-01-18T12:16:22.255Z"
      },
      {
        "duration": 32,
        "start_time": "2024-01-18T12:16:22.270Z"
      },
      {
        "duration": 35,
        "start_time": "2024-01-18T12:16:22.304Z"
      },
      {
        "duration": 1062,
        "start_time": "2024-01-18T12:16:22.341Z"
      },
      {
        "duration": 3,
        "start_time": "2024-01-18T12:16:23.405Z"
      },
      {
        "duration": 21,
        "start_time": "2024-01-18T12:16:23.410Z"
      },
      {
        "duration": 6,
        "start_time": "2024-01-18T12:16:23.432Z"
      },
      {
        "duration": 4,
        "start_time": "2024-01-18T12:16:23.439Z"
      },
      {
        "duration": 5,
        "start_time": "2024-01-18T12:16:23.445Z"
      },
      {
        "duration": 6,
        "start_time": "2024-01-18T12:16:23.452Z"
      },
      {
        "duration": 6,
        "start_time": "2024-01-18T12:16:23.459Z"
      },
      {
        "duration": 69163,
        "start_time": "2024-01-18T12:16:23.467Z"
      },
      {
        "duration": 30,
        "start_time": "2024-01-18T12:17:32.632Z"
      },
      {
        "duration": 103,
        "start_time": "2024-01-18T12:17:32.664Z"
      },
      {
        "duration": 9,
        "start_time": "2024-01-18T12:17:32.769Z"
      },
      {
        "duration": 5,
        "start_time": "2024-01-18T14:13:08.555Z"
      },
      {
        "duration": 25,
        "start_time": "2024-01-18T14:13:52.558Z"
      },
      {
        "duration": 51,
        "start_time": "2024-01-18T14:15:41.871Z"
      },
      {
        "duration": 8,
        "start_time": "2024-01-18T14:16:10.444Z"
      },
      {
        "duration": 1525,
        "start_time": "2024-01-18T14:16:32.884Z"
      },
      {
        "duration": 51,
        "start_time": "2024-01-18T14:16:42.903Z"
      },
      {
        "duration": 11,
        "start_time": "2024-01-18T14:16:54.104Z"
      },
      {
        "duration": 6,
        "start_time": "2024-01-18T14:44:20.103Z"
      },
      {
        "duration": 868,
        "start_time": "2024-01-18T14:44:32.628Z"
      },
      {
        "duration": 775,
        "start_time": "2024-01-18T14:46:51.595Z"
      },
      {
        "duration": 777,
        "start_time": "2024-01-18T14:48:30.993Z"
      },
      {
        "duration": 5,
        "start_time": "2024-01-18T14:49:25.980Z"
      },
      {
        "duration": 802,
        "start_time": "2024-01-18T14:50:10.127Z"
      },
      {
        "duration": 4,
        "start_time": "2024-01-18T14:51:04.091Z"
      },
      {
        "duration": 721,
        "start_time": "2024-01-18T14:51:13.377Z"
      },
      {
        "duration": 350,
        "start_time": "2024-01-18T14:55:46.285Z"
      },
      {
        "duration": 1583,
        "start_time": "2024-01-18T14:59:09.878Z"
      },
      {
        "duration": 51,
        "start_time": "2024-01-18T14:59:15.094Z"
      },
      {
        "duration": 6,
        "start_time": "2024-01-18T14:59:26.788Z"
      },
      {
        "duration": 282,
        "start_time": "2024-01-18T14:59:35.092Z"
      },
      {
        "duration": 50,
        "start_time": "2024-01-18T15:03:47.932Z"
      },
      {
        "duration": 1513,
        "start_time": "2024-01-18T15:04:03.283Z"
      },
      {
        "duration": 88,
        "start_time": "2024-01-18T15:04:18.140Z"
      },
      {
        "duration": 50,
        "start_time": "2024-01-18T15:04:27.630Z"
      },
      {
        "duration": 288,
        "start_time": "2024-01-18T15:04:37.371Z"
      },
      {
        "duration": 24,
        "start_time": "2024-01-18T15:04:45.011Z"
      },
      {
        "duration": 5,
        "start_time": "2024-01-18T15:05:50.200Z"
      },
      {
        "duration": 50,
        "start_time": "2024-01-18T15:05:57.342Z"
      },
      {
        "duration": 10,
        "start_time": "2024-01-18T15:06:06.928Z"
      },
      {
        "duration": 6,
        "start_time": "2024-01-18T15:06:13.015Z"
      },
      {
        "duration": 164,
        "start_time": "2024-01-18T15:06:19.102Z"
      },
      {
        "duration": 5,
        "start_time": "2024-01-18T15:06:57.366Z"
      },
      {
        "duration": 280,
        "start_time": "2024-01-18T15:07:08.577Z"
      },
      {
        "duration": 200,
        "start_time": "2024-01-18T15:07:52.435Z"
      },
      {
        "duration": 6,
        "start_time": "2024-01-18T15:10:58.493Z"
      },
      {
        "duration": 204,
        "start_time": "2024-01-18T15:11:08.691Z"
      },
      {
        "duration": 710,
        "start_time": "2024-01-18T15:11:39.956Z"
      },
      {
        "duration": 1619,
        "start_time": "2024-01-18T15:13:40.303Z"
      },
      {
        "duration": 51,
        "start_time": "2024-01-18T15:13:45.987Z"
      },
      {
        "duration": 10,
        "start_time": "2024-01-18T15:14:00.050Z"
      },
      {
        "duration": 300,
        "start_time": "2024-01-18T15:14:39.771Z"
      },
      {
        "duration": 829,
        "start_time": "2024-01-18T15:15:15.380Z"
      },
      {
        "duration": 182,
        "start_time": "2024-01-18T15:17:07.593Z"
      },
      {
        "duration": 152,
        "start_time": "2024-01-18T15:17:15.824Z"
      },
      {
        "duration": 245,
        "start_time": "2024-01-18T15:18:15.100Z"
      },
      {
        "duration": 238,
        "start_time": "2024-01-18T15:18:33.867Z"
      },
      {
        "duration": 244,
        "start_time": "2024-01-18T15:19:20.909Z"
      },
      {
        "duration": 334,
        "start_time": "2024-01-18T15:19:32.171Z"
      },
      {
        "duration": 5,
        "start_time": "2024-01-18T15:29:07.959Z"
      },
      {
        "duration": 228,
        "start_time": "2024-01-18T15:29:44.714Z"
      },
      {
        "duration": 243,
        "start_time": "2024-01-18T15:30:12.790Z"
      },
      {
        "duration": 189,
        "start_time": "2024-01-18T15:30:58.067Z"
      },
      {
        "duration": 1313,
        "start_time": "2024-01-18T15:38:09.722Z"
      },
      {
        "duration": 233,
        "start_time": "2024-01-18T15:38:24.541Z"
      },
      {
        "duration": 241,
        "start_time": "2024-01-18T15:38:43.490Z"
      },
      {
        "duration": 178,
        "start_time": "2024-01-18T15:38:55.496Z"
      },
      {
        "duration": 378,
        "start_time": "2024-01-18T15:42:42.871Z"
      },
      {
        "duration": 7,
        "start_time": "2024-01-18T16:30:44.431Z"
      },
      {
        "duration": 397,
        "start_time": "2024-01-18T16:31:08.212Z"
      },
      {
        "duration": 190,
        "start_time": "2024-01-18T16:32:28.810Z"
      },
      {
        "duration": 253,
        "start_time": "2024-01-18T16:32:43.278Z"
      },
      {
        "duration": 282,
        "start_time": "2024-01-18T16:34:06.162Z"
      },
      {
        "duration": 329,
        "start_time": "2024-01-18T16:36:22.279Z"
      },
      {
        "duration": 198,
        "start_time": "2024-01-18T16:39:45.294Z"
      },
      {
        "duration": 216,
        "start_time": "2024-01-18T16:40:10.542Z"
      },
      {
        "duration": 77,
        "start_time": "2024-01-18T16:41:39.259Z"
      },
      {
        "duration": 213,
        "start_time": "2024-01-18T16:48:18.175Z"
      },
      {
        "duration": 212,
        "start_time": "2024-01-18T16:49:55.618Z"
      },
      {
        "duration": 202,
        "start_time": "2024-01-18T16:51:39.271Z"
      },
      {
        "duration": 327,
        "start_time": "2024-01-18T16:51:57.718Z"
      },
      {
        "duration": 196,
        "start_time": "2024-01-18T16:53:58.220Z"
      },
      {
        "duration": 199,
        "start_time": "2024-01-18T16:54:18.629Z"
      },
      {
        "duration": 27,
        "start_time": "2024-01-18T17:02:43.083Z"
      },
      {
        "duration": 1921,
        "start_time": "2024-01-18T17:03:15.001Z"
      },
      {
        "duration": 2043,
        "start_time": "2024-01-18T17:10:00.481Z"
      },
      {
        "duration": 1957,
        "start_time": "2024-01-18T17:14:51.683Z"
      },
      {
        "duration": 5,
        "start_time": "2024-01-18T17:24:43.822Z"
      },
      {
        "duration": 1594,
        "start_time": "2024-01-18T17:25:45.262Z"
      },
      {
        "duration": 52,
        "start_time": "2024-01-18T17:25:46.858Z"
      },
      {
        "duration": 10,
        "start_time": "2024-01-18T17:25:46.912Z"
      },
      {
        "duration": 3,
        "start_time": "2024-01-18T17:25:46.925Z"
      },
      {
        "duration": 13,
        "start_time": "2024-01-18T17:25:46.930Z"
      },
      {
        "duration": 8,
        "start_time": "2024-01-18T17:25:46.945Z"
      },
      {
        "duration": 313,
        "start_time": "2024-01-18T17:25:46.955Z"
      },
      {
        "duration": 318,
        "start_time": "2024-01-18T17:25:47.270Z"
      },
      {
        "duration": 268,
        "start_time": "2024-01-18T17:25:47.590Z"
      },
      {
        "duration": 381,
        "start_time": "2024-01-18T17:25:47.861Z"
      },
      {
        "duration": 234,
        "start_time": "2024-01-18T17:25:48.244Z"
      },
      {
        "duration": 190,
        "start_time": "2024-01-18T17:25:48.480Z"
      },
      {
        "duration": 2252,
        "start_time": "2024-01-18T17:25:48.671Z"
      },
      {
        "duration": 100,
        "start_time": "2024-01-18T17:25:50.933Z"
      },
      {
        "duration": 22,
        "start_time": "2024-01-18T17:25:51.035Z"
      },
      {
        "duration": 26,
        "start_time": "2024-01-18T17:25:51.059Z"
      },
      {
        "duration": 1077,
        "start_time": "2024-01-18T17:25:51.087Z"
      },
      {
        "duration": 3,
        "start_time": "2024-01-18T17:25:52.167Z"
      },
      {
        "duration": 40,
        "start_time": "2024-01-18T17:25:52.171Z"
      },
      {
        "duration": 13,
        "start_time": "2024-01-18T17:25:52.213Z"
      },
      {
        "duration": 20,
        "start_time": "2024-01-18T17:25:52.228Z"
      },
      {
        "duration": 31,
        "start_time": "2024-01-18T17:25:52.250Z"
      },
      {
        "duration": 26,
        "start_time": "2024-01-18T17:25:52.282Z"
      },
      {
        "duration": 9,
        "start_time": "2024-01-18T17:25:52.310Z"
      },
      {
        "duration": 33,
        "start_time": "2024-01-18T17:25:52.321Z"
      },
      {
        "duration": 23,
        "start_time": "2024-01-18T17:25:52.356Z"
      },
      {
        "duration": 389155,
        "start_time": "2024-01-18T17:25:52.381Z"
      },
      {
        "duration": 30,
        "start_time": "2024-01-18T17:32:21.540Z"
      },
      {
        "duration": 11,
        "start_time": "2024-01-18T17:32:21.623Z"
      },
      {
        "duration": 8,
        "start_time": "2024-01-18T17:32:21.636Z"
      },
      {
        "duration": 52698,
        "start_time": "2024-01-18T17:38:06.634Z"
      },
      {
        "duration": 9,
        "start_time": "2024-01-18T17:41:26.517Z"
      },
      {
        "duration": 5,
        "start_time": "2024-01-18T17:41:28.514Z"
      },
      {
        "duration": 8,
        "start_time": "2024-01-18T17:56:06.830Z"
      },
      {
        "duration": 6,
        "start_time": "2024-01-18T18:29:37.376Z"
      },
      {
        "duration": 131,
        "start_time": "2024-01-18T18:32:17.741Z"
      },
      {
        "duration": 5,
        "start_time": "2024-01-18T18:32:41.842Z"
      },
      {
        "duration": 231,
        "start_time": "2024-01-18T18:39:00.492Z"
      },
      {
        "duration": 1572,
        "start_time": "2024-01-18T18:39:13.941Z"
      },
      {
        "duration": 52,
        "start_time": "2024-01-18T18:39:15.516Z"
      },
      {
        "duration": 11,
        "start_time": "2024-01-18T18:39:15.570Z"
      },
      {
        "duration": 16,
        "start_time": "2024-01-18T18:39:15.583Z"
      },
      {
        "duration": 33,
        "start_time": "2024-01-18T18:39:15.601Z"
      },
      {
        "duration": 33,
        "start_time": "2024-01-18T18:39:15.636Z"
      },
      {
        "duration": 312,
        "start_time": "2024-01-18T18:39:15.671Z"
      },
      {
        "duration": 321,
        "start_time": "2024-01-18T18:39:15.985Z"
      },
      {
        "duration": 273,
        "start_time": "2024-01-18T18:39:16.308Z"
      },
      {
        "duration": 357,
        "start_time": "2024-01-18T18:39:16.584Z"
      },
      {
        "duration": 244,
        "start_time": "2024-01-18T18:39:16.942Z"
      },
      {
        "duration": 193,
        "start_time": "2024-01-18T18:39:17.188Z"
      },
      {
        "duration": 3941,
        "start_time": "2024-01-18T18:39:17.383Z"
      },
      {
        "duration": 103,
        "start_time": "2024-01-18T18:39:21.327Z"
      },
      {
        "duration": 21,
        "start_time": "2024-01-18T18:39:21.432Z"
      },
      {
        "duration": 20,
        "start_time": "2024-01-18T18:39:21.455Z"
      },
      {
        "duration": 1031,
        "start_time": "2024-01-18T18:39:21.476Z"
      },
      {
        "duration": 3,
        "start_time": "2024-01-18T18:39:22.509Z"
      },
      {
        "duration": 17,
        "start_time": "2024-01-18T18:39:22.513Z"
      },
      {
        "duration": 9,
        "start_time": "2024-01-18T18:39:22.531Z"
      },
      {
        "duration": 6,
        "start_time": "2024-01-18T18:39:22.541Z"
      },
      {
        "duration": 8,
        "start_time": "2024-01-18T18:39:22.548Z"
      },
      {
        "duration": 15,
        "start_time": "2024-01-18T18:39:22.558Z"
      },
      {
        "duration": 11,
        "start_time": "2024-01-18T18:39:22.575Z"
      },
      {
        "duration": 4,
        "start_time": "2024-01-18T18:39:22.588Z"
      },
      {
        "duration": 12,
        "start_time": "2024-01-18T18:39:22.594Z"
      },
      {
        "duration": 180335,
        "start_time": "2024-01-18T18:39:22.609Z"
      },
      {
        "duration": 31,
        "start_time": "2024-01-18T18:42:23.029Z"
      },
      {
        "duration": 15,
        "start_time": "2024-01-18T18:42:23.061Z"
      },
      {
        "duration": 13,
        "start_time": "2024-01-18T18:42:23.124Z"
      },
      {
        "duration": 13,
        "start_time": "2024-01-18T18:42:23.140Z"
      },
      {
        "duration": 483,
        "start_time": "2024-01-18T18:42:23.155Z"
      },
      {
        "duration": 6,
        "start_time": "2024-01-18T18:44:31.556Z"
      },
      {
        "duration": 253,
        "start_time": "2024-01-18T18:44:42.383Z"
      },
      {
        "duration": 7,
        "start_time": "2024-01-18T18:47:50.923Z"
      },
      {
        "duration": 8,
        "start_time": "2024-01-18T18:48:03.677Z"
      },
      {
        "duration": 15,
        "start_time": "2024-01-18T18:49:48.251Z"
      },
      {
        "duration": 13,
        "start_time": "2024-01-18T18:50:14.401Z"
      },
      {
        "duration": 3,
        "start_time": "2024-01-18T18:51:28.267Z"
      },
      {
        "duration": 7,
        "start_time": "2024-01-18T18:51:31.350Z"
      },
      {
        "duration": 10,
        "start_time": "2024-01-18T18:55:44.574Z"
      },
      {
        "duration": 9,
        "start_time": "2024-01-18T18:56:16.458Z"
      },
      {
        "duration": 8,
        "start_time": "2024-01-18T18:56:25.994Z"
      },
      {
        "duration": 9,
        "start_time": "2024-01-18T18:57:48.786Z"
      },
      {
        "duration": 8,
        "start_time": "2024-01-18T18:57:52.284Z"
      },
      {
        "duration": 7,
        "start_time": "2024-01-18T18:58:08.040Z"
      },
      {
        "duration": 7,
        "start_time": "2024-01-18T18:59:54.304Z"
      },
      {
        "duration": 12,
        "start_time": "2024-01-18T19:00:17.502Z"
      },
      {
        "duration": 11,
        "start_time": "2024-01-18T19:00:21.520Z"
      },
      {
        "duration": 10,
        "start_time": "2024-01-18T19:03:47.542Z"
      },
      {
        "duration": 5,
        "start_time": "2024-01-18T19:03:50.269Z"
      },
      {
        "duration": 73,
        "start_time": "2024-01-18T19:18:42.499Z"
      },
      {
        "duration": 119,
        "start_time": "2024-01-18T19:18:51.102Z"
      },
      {
        "duration": 6,
        "start_time": "2024-01-18T19:19:04.293Z"
      },
      {
        "duration": 9,
        "start_time": "2024-01-18T19:19:07.718Z"
      },
      {
        "duration": 3,
        "start_time": "2024-01-18T19:19:18.101Z"
      },
      {
        "duration": 4,
        "start_time": "2024-01-18T19:19:37.680Z"
      },
      {
        "duration": 13,
        "start_time": "2024-01-18T19:19:43.586Z"
      },
      {
        "duration": 6,
        "start_time": "2024-01-18T19:20:15.765Z"
      },
      {
        "duration": 3,
        "start_time": "2024-01-18T19:20:20.546Z"
      },
      {
        "duration": 9,
        "start_time": "2024-01-18T19:20:44.994Z"
      },
      {
        "duration": 7,
        "start_time": "2024-01-18T19:22:20.743Z"
      },
      {
        "duration": 7,
        "start_time": "2024-01-18T19:22:24.214Z"
      },
      {
        "duration": 9,
        "start_time": "2024-01-18T19:23:32.205Z"
      },
      {
        "duration": 12,
        "start_time": "2024-01-18T19:24:16.110Z"
      },
      {
        "duration": 12,
        "start_time": "2024-01-18T19:25:17.580Z"
      },
      {
        "duration": 9,
        "start_time": "2024-01-18T19:25:46.618Z"
      },
      {
        "duration": 11,
        "start_time": "2024-01-18T19:25:54.489Z"
      },
      {
        "duration": 6,
        "start_time": "2024-01-18T19:26:47.703Z"
      },
      {
        "duration": 6,
        "start_time": "2024-01-18T19:26:51.445Z"
      },
      {
        "duration": 8,
        "start_time": "2024-01-18T19:27:28.029Z"
      },
      {
        "duration": 4,
        "start_time": "2024-01-18T19:27:38.650Z"
      },
      {
        "duration": 6,
        "start_time": "2024-01-18T19:27:43.023Z"
      },
      {
        "duration": 4,
        "start_time": "2024-01-18T19:28:51.588Z"
      },
      {
        "duration": 6,
        "start_time": "2024-01-18T19:28:54.155Z"
      },
      {
        "duration": 4,
        "start_time": "2024-01-18T19:29:08.573Z"
      },
      {
        "duration": 3,
        "start_time": "2024-01-18T19:29:17.897Z"
      },
      {
        "duration": 4,
        "start_time": "2024-01-18T19:29:22.048Z"
      },
      {
        "duration": 5,
        "start_time": "2024-01-18T19:29:25.227Z"
      },
      {
        "duration": 12,
        "start_time": "2024-01-18T19:31:50.794Z"
      },
      {
        "duration": 14,
        "start_time": "2024-01-18T19:32:42.534Z"
      },
      {
        "duration": 13,
        "start_time": "2024-01-18T19:33:10.230Z"
      },
      {
        "duration": 8,
        "start_time": "2024-01-18T19:33:35.987Z"
      },
      {
        "duration": 7,
        "start_time": "2024-01-18T19:34:00.497Z"
      },
      {
        "duration": 10,
        "start_time": "2024-01-18T19:34:17.833Z"
      },
      {
        "duration": 6,
        "start_time": "2024-01-18T19:34:38.961Z"
      },
      {
        "duration": 8,
        "start_time": "2024-01-18T19:34:55.193Z"
      },
      {
        "duration": 254,
        "start_time": "2024-01-18T19:35:38.785Z"
      },
      {
        "duration": 160,
        "start_time": "2024-01-18T19:38:46.065Z"
      },
      {
        "duration": 186,
        "start_time": "2024-01-18T19:39:10.409Z"
      },
      {
        "duration": 255,
        "start_time": "2024-01-18T19:43:59.728Z"
      },
      {
        "duration": 211,
        "start_time": "2024-01-18T19:44:27.757Z"
      },
      {
        "duration": 1611,
        "start_time": "2024-01-18T19:47:13.232Z"
      },
      {
        "duration": 55,
        "start_time": "2024-01-18T19:47:14.845Z"
      },
      {
        "duration": 14,
        "start_time": "2024-01-18T19:47:14.902Z"
      },
      {
        "duration": 6,
        "start_time": "2024-01-18T19:47:14.918Z"
      },
      {
        "duration": 14,
        "start_time": "2024-01-18T19:47:14.926Z"
      },
      {
        "duration": 9,
        "start_time": "2024-01-18T19:47:14.942Z"
      },
      {
        "duration": 308,
        "start_time": "2024-01-18T19:47:14.953Z"
      },
      {
        "duration": 308,
        "start_time": "2024-01-18T19:47:15.262Z"
      },
      {
        "duration": 277,
        "start_time": "2024-01-18T19:47:15.571Z"
      },
      {
        "duration": 372,
        "start_time": "2024-01-18T19:47:15.851Z"
      },
      {
        "duration": 231,
        "start_time": "2024-01-18T19:47:16.224Z"
      },
      {
        "duration": 192,
        "start_time": "2024-01-18T19:47:16.456Z"
      },
      {
        "duration": 2072,
        "start_time": "2024-01-18T19:47:16.650Z"
      },
      {
        "duration": 101,
        "start_time": "2024-01-18T19:47:18.725Z"
      },
      {
        "duration": 15,
        "start_time": "2024-01-18T19:47:18.828Z"
      },
      {
        "duration": 16,
        "start_time": "2024-01-18T19:47:18.845Z"
      },
      {
        "duration": 1080,
        "start_time": "2024-01-18T19:47:18.863Z"
      },
      {
        "duration": 3,
        "start_time": "2024-01-18T19:47:19.945Z"
      },
      {
        "duration": 7,
        "start_time": "2024-01-18T19:47:19.950Z"
      },
      {
        "duration": 6,
        "start_time": "2024-01-18T19:47:19.959Z"
      },
      {
        "duration": 9,
        "start_time": "2024-01-18T19:47:19.967Z"
      },
      {
        "duration": 7,
        "start_time": "2024-01-18T19:47:19.978Z"
      },
      {
        "duration": 5,
        "start_time": "2024-01-18T19:47:19.986Z"
      },
      {
        "duration": 5,
        "start_time": "2024-01-18T19:47:19.993Z"
      },
      {
        "duration": 3,
        "start_time": "2024-01-18T19:47:20.023Z"
      },
      {
        "duration": 16,
        "start_time": "2024-01-18T19:47:20.028Z"
      },
      {
        "duration": 8889,
        "start_time": "2024-01-18T19:47:20.046Z"
      },
      {
        "duration": 29,
        "start_time": "2024-01-18T19:47:29.022Z"
      },
      {
        "duration": 12,
        "start_time": "2024-01-18T19:47:29.053Z"
      },
      {
        "duration": 51,
        "start_time": "2024-01-18T19:47:29.072Z"
      },
      {
        "duration": 5,
        "start_time": "2024-01-18T19:47:29.125Z"
      },
      {
        "duration": 6,
        "start_time": "2024-01-18T19:47:29.132Z"
      },
      {
        "duration": 11,
        "start_time": "2024-01-18T19:47:29.139Z"
      },
      {
        "duration": 37,
        "start_time": "2024-01-18T19:47:29.152Z"
      },
      {
        "duration": 18,
        "start_time": "2024-01-18T19:47:29.191Z"
      },
      {
        "duration": 365,
        "start_time": "2024-01-18T19:47:29.211Z"
      },
      {
        "duration": 214,
        "start_time": "2024-01-18T19:47:29.578Z"
      }
    ],
    "kernelspec": {
      "display_name": "Python 3 (ipykernel)",
      "language": "python",
      "name": "python3"
    },
    "language_info": {
      "codemirror_mode": {
        "name": "ipython",
        "version": 3
      },
      "file_extension": ".py",
      "mimetype": "text/x-python",
      "name": "python",
      "nbconvert_exporter": "python",
      "pygments_lexer": "ipython3",
      "version": "3.9.5"
    },
    "toc": {
      "base_numbering": 1,
      "nav_menu": {},
      "number_sections": true,
      "sideBar": true,
      "skip_h1_title": true,
      "title_cell": "Содержание",
      "title_sidebar": "Contents",
      "toc_cell": true,
      "toc_position": {
        "height": "calc(100% - 180px)",
        "left": "10px",
        "top": "150px",
        "width": "263.594px"
      },
      "toc_section_display": true,
      "toc_window_display": false
    },
    "colab": {
      "provenance": []
    }
  },
  "nbformat": 4,
  "nbformat_minor": 0
}